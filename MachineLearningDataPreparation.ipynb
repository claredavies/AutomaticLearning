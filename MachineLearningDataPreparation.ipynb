{
  "nbformat": 4,
  "nbformat_minor": 0,
  "metadata": {
    "colab": {
      "provenance": [],
      "collapsed_sections": [
        "g8YAUqRmTGV3",
        "zw_N1peRR_to",
        "H5WmCapuQl7j",
        "FbFeVWlBT51r"
      ],
      "toc_visible": true,
      "authorship_tag": "ABX9TyPgucAJgVk6Cl3/jKKLvVYl",
      "include_colab_link": true
    },
    "kernelspec": {
      "name": "python3",
      "display_name": "Python 3"
    },
    "language_info": {
      "name": "python"
    }
  },
  "cells": [
    {
      "cell_type": "markdown",
      "metadata": {
        "id": "view-in-github",
        "colab_type": "text"
      },
      "source": [
        "<a href=\"https://colab.research.google.com/github/claredavies/AutomaticLearning/blob/main/MachineLearningDataPreparation.ipynb\" target=\"_parent\"><img src=\"https://colab.research.google.com/assets/colab-badge.svg\" alt=\"Open In Colab\"/></a>"
      ]
    },
    {
      "cell_type": "markdown",
      "source": [
        "# Import Libraries"
      ],
      "metadata": {
        "id": "dF8dxVDbcL2c"
      }
    },
    {
      "cell_type": "code",
      "source": [
        "import six\n",
        "import sys\n",
        "sys.modules['sklearn.externals.six'] = six\n",
        "\n",
        "import joblib\n",
        "sys.modules['sklearn.externals.joblib'] = joblib\n",
        "\n",
        "from scipy.io import arff\n",
        "import pandas as pd\n",
        "import matplotlib.pyplot as plt\n",
        "\n",
        "from sklearn.model_selection import train_test_split\n",
        "from sklearn.preprocessing import StandardScaler\n",
        "\n",
        "from sklearn.neighbors import KNeighborsClassifier\n",
        "from mlxtend.feature_selection import SequentialFeatureSelector as SFS\n",
        "\n",
        "from sklearn.decomposition import PCA\n",
        "\n",
        "RANDOM_SEED = 0"
      ],
      "metadata": {
        "id": "e8KDOAXKODXF"
      },
      "execution_count": 111,
      "outputs": []
    },
    {
      "cell_type": "markdown",
      "source": [
        "# Functions"
      ],
      "metadata": {
        "id": "g8YAUqRmTGV3"
      }
    },
    {
      "cell_type": "code",
      "execution_count": 2,
      "metadata": {
        "id": "HwwuBH12MWmJ"
      },
      "outputs": [],
      "source": [
        "def read_arff_as_df_scipy( filename ):\n",
        " # input : name of the file where the dataset is stored\n",
        " # output : a dataframe\n",
        " dataset = arff.loadarff(filename)\n",
        " df = pd.DataFrame( dataset[0] , columns = dataset[1])\n",
        " return df"
      ]
    },
    {
      "cell_type": "code",
      "source": [
        "def return_columns_missing_values(df):\n",
        "  return df.columns[df.isnull().any()]"
      ],
      "metadata": {
        "id": "-6gjP9vETA3T"
      },
      "execution_count": 3,
      "outputs": []
    },
    {
      "cell_type": "code",
      "source": [
        "def missing_value_column_percentage(dataframe, column_name):\n",
        "  percent_missing = dataframe.loc[:, column_name].isnull().sum() * 100 / len(dataframe)\n",
        "  return percent_missing"
      ],
      "metadata": {
        "id": "KZrJmD2_UxrU"
      },
      "execution_count": 15,
      "outputs": []
    },
    {
      "cell_type": "code",
      "source": [
        "def convert_object_datatypes_to_categorical(dataframe):\n",
        "  for column_name in dataframe:\n",
        "    if(dataframe[column_name].dtype == object):\n",
        "      dataframe[column_name] = dataframe[column_name].astype('category')\n",
        "  return dataframe"
      ],
      "metadata": {
        "id": "UxrXePXpPW00"
      },
      "execution_count": 28,
      "outputs": []
    },
    {
      "cell_type": "code",
      "source": [
        "def convert_categorical_to_integer(dataframe):\n",
        "  cat_columns = dataframe.select_dtypes(['category']).columns\n",
        "  dataframe[cat_columns] = dataframe[cat_columns].apply(lambda x: x.cat.codes)\n",
        "  return dataframe"
      ],
      "metadata": {
        "id": "dAQ7CI-TP6Ca"
      },
      "execution_count": 35,
      "outputs": []
    },
    {
      "cell_type": "markdown",
      "source": [
        "# Read in Data"
      ],
      "metadata": {
        "id": "FhTtCrzxTNou"
      }
    },
    {
      "cell_type": "code",
      "source": [
        "df = read_arff_as_df_scipy('dataset_55_hepatitis.arff')"
      ],
      "metadata": {
        "id": "I3uj2mvaQ9f3"
      },
      "execution_count": 127,
      "outputs": []
    },
    {
      "cell_type": "markdown",
      "source": [
        "# Data Exploration"
      ],
      "metadata": {
        "id": "zw_N1peRR_to"
      }
    },
    {
      "cell_type": "code",
      "source": [
        "print(df.info)"
      ],
      "metadata": {
        "colab": {
          "base_uri": "https://localhost:8080/"
        },
        "id": "UJ9Ci9CxSIPL",
        "outputId": "6e0742a1-a3b4-4974-a81c-fa40e8d9384b"
      },
      "execution_count": 128,
      "outputs": [
        {
          "output_type": "stream",
          "name": "stdout",
          "text": [
            "<bound method DataFrame.info of       AGE        SEX STEROID ANTIVIRALS FATIGUE MALAISE ANOREXIA LIVER_BIG  \\\n",
            "0    30.0    b'male'   b'no'      b'no'   b'no'   b'no'    b'no'     b'no'   \n",
            "1    50.0  b'female'   b'no'      b'no'  b'yes'   b'no'    b'no'     b'no'   \n",
            "2    78.0  b'female'  b'yes'      b'no'  b'yes'   b'no'    b'no'    b'yes'   \n",
            "3    31.0  b'female'    b'?'     b'yes'   b'no'   b'no'    b'no'    b'yes'   \n",
            "4    34.0  b'female'  b'yes'      b'no'   b'no'   b'no'    b'no'    b'yes'   \n",
            "..    ...        ...     ...        ...     ...     ...      ...       ...   \n",
            "150  46.0  b'female'  b'yes'      b'no'  b'yes'  b'yes'   b'yes'    b'yes'   \n",
            "151  44.0  b'female'  b'yes'      b'no'  b'yes'   b'no'    b'no'    b'yes'   \n",
            "152  61.0  b'female'   b'no'      b'no'  b'yes'  b'yes'    b'no'     b'no'   \n",
            "153  53.0    b'male'   b'no'      b'no'  b'yes'   b'no'    b'no'    b'yes'   \n",
            "154  43.0  b'female'  b'yes'      b'no'  b'yes'   b'no'    b'no'    b'yes'   \n",
            "\n",
            "    LIVER_FIRM SPLEEN_PALPABLE SPIDERS ASCITES VARICES  BILIRUBIN  \\\n",
            "0        b'no'           b'no'   b'no'   b'no'   b'no'        1.0   \n",
            "1        b'no'           b'no'   b'no'   b'no'   b'no'        0.9   \n",
            "2        b'no'           b'no'   b'no'   b'no'   b'no'        0.7   \n",
            "3        b'no'           b'no'   b'no'   b'no'   b'no'        0.7   \n",
            "4        b'no'           b'no'   b'no'   b'no'   b'no'        1.0   \n",
            "..         ...             ...     ...     ...     ...        ...   \n",
            "150      b'no'           b'no'  b'yes'  b'yes'  b'yes'        7.6   \n",
            "151     b'yes'           b'no'   b'no'   b'no'   b'no'        0.9   \n",
            "152     b'yes'           b'no'  b'yes'   b'no'   b'no'        0.8   \n",
            "153      b'no'          b'yes'  b'yes'   b'no'  b'yes'        1.5   \n",
            "154      b'no'          b'yes'  b'yes'  b'yes'   b'no'        1.2   \n",
            "\n",
            "     ALK_PHOSPHATE   SGOT  ALBUMIN  PROTIME HISTOLOGY    Class  \n",
            "0             85.0   18.0      4.0      NaN     b'no'  b'LIVE'  \n",
            "1            135.0   42.0      3.5      NaN     b'no'  b'LIVE'  \n",
            "2             96.0   32.0      4.0      NaN     b'no'  b'LIVE'  \n",
            "3             46.0   52.0      4.0     80.0     b'no'  b'LIVE'  \n",
            "4              NaN  200.0      4.0      NaN     b'no'  b'LIVE'  \n",
            "..             ...    ...      ...      ...       ...      ...  \n",
            "150            NaN  242.0      3.3     50.0    b'yes'   b'DIE'  \n",
            "151          126.0  142.0      4.3      NaN    b'yes'  b'LIVE'  \n",
            "152           75.0   20.0      4.1      NaN    b'yes'  b'LIVE'  \n",
            "153           81.0   19.0      4.1     48.0    b'yes'  b'LIVE'  \n",
            "154          100.0   19.0      3.1     42.0    b'yes'   b'DIE'  \n",
            "\n",
            "[155 rows x 20 columns]>\n"
          ]
        }
      ]
    },
    {
      "cell_type": "code",
      "source": [
        "print(df.head)"
      ],
      "metadata": {
        "colab": {
          "base_uri": "https://localhost:8080/"
        },
        "id": "CIXAnVZrQzGE",
        "outputId": "6f188f40-f2d5-49c2-fa6b-65ce14445612"
      },
      "execution_count": 129,
      "outputs": [
        {
          "output_type": "stream",
          "name": "stdout",
          "text": [
            "<bound method NDFrame.head of       AGE        SEX STEROID ANTIVIRALS FATIGUE MALAISE ANOREXIA LIVER_BIG  \\\n",
            "0    30.0    b'male'   b'no'      b'no'   b'no'   b'no'    b'no'     b'no'   \n",
            "1    50.0  b'female'   b'no'      b'no'  b'yes'   b'no'    b'no'     b'no'   \n",
            "2    78.0  b'female'  b'yes'      b'no'  b'yes'   b'no'    b'no'    b'yes'   \n",
            "3    31.0  b'female'    b'?'     b'yes'   b'no'   b'no'    b'no'    b'yes'   \n",
            "4    34.0  b'female'  b'yes'      b'no'   b'no'   b'no'    b'no'    b'yes'   \n",
            "..    ...        ...     ...        ...     ...     ...      ...       ...   \n",
            "150  46.0  b'female'  b'yes'      b'no'  b'yes'  b'yes'   b'yes'    b'yes'   \n",
            "151  44.0  b'female'  b'yes'      b'no'  b'yes'   b'no'    b'no'    b'yes'   \n",
            "152  61.0  b'female'   b'no'      b'no'  b'yes'  b'yes'    b'no'     b'no'   \n",
            "153  53.0    b'male'   b'no'      b'no'  b'yes'   b'no'    b'no'    b'yes'   \n",
            "154  43.0  b'female'  b'yes'      b'no'  b'yes'   b'no'    b'no'    b'yes'   \n",
            "\n",
            "    LIVER_FIRM SPLEEN_PALPABLE SPIDERS ASCITES VARICES  BILIRUBIN  \\\n",
            "0        b'no'           b'no'   b'no'   b'no'   b'no'        1.0   \n",
            "1        b'no'           b'no'   b'no'   b'no'   b'no'        0.9   \n",
            "2        b'no'           b'no'   b'no'   b'no'   b'no'        0.7   \n",
            "3        b'no'           b'no'   b'no'   b'no'   b'no'        0.7   \n",
            "4        b'no'           b'no'   b'no'   b'no'   b'no'        1.0   \n",
            "..         ...             ...     ...     ...     ...        ...   \n",
            "150      b'no'           b'no'  b'yes'  b'yes'  b'yes'        7.6   \n",
            "151     b'yes'           b'no'   b'no'   b'no'   b'no'        0.9   \n",
            "152     b'yes'           b'no'  b'yes'   b'no'   b'no'        0.8   \n",
            "153      b'no'          b'yes'  b'yes'   b'no'  b'yes'        1.5   \n",
            "154      b'no'          b'yes'  b'yes'  b'yes'   b'no'        1.2   \n",
            "\n",
            "     ALK_PHOSPHATE   SGOT  ALBUMIN  PROTIME HISTOLOGY    Class  \n",
            "0             85.0   18.0      4.0      NaN     b'no'  b'LIVE'  \n",
            "1            135.0   42.0      3.5      NaN     b'no'  b'LIVE'  \n",
            "2             96.0   32.0      4.0      NaN     b'no'  b'LIVE'  \n",
            "3             46.0   52.0      4.0     80.0     b'no'  b'LIVE'  \n",
            "4              NaN  200.0      4.0      NaN     b'no'  b'LIVE'  \n",
            "..             ...    ...      ...      ...       ...      ...  \n",
            "150            NaN  242.0      3.3     50.0    b'yes'   b'DIE'  \n",
            "151          126.0  142.0      4.3      NaN    b'yes'  b'LIVE'  \n",
            "152           75.0   20.0      4.1      NaN    b'yes'  b'LIVE'  \n",
            "153           81.0   19.0      4.1     48.0    b'yes'  b'LIVE'  \n",
            "154          100.0   19.0      3.1     42.0    b'yes'   b'DIE'  \n",
            "\n",
            "[155 rows x 20 columns]>\n"
          ]
        }
      ]
    },
    {
      "cell_type": "markdown",
      "source": [
        "Get number of samples and features and store"
      ],
      "metadata": {
        "id": "EhUPUJ3DTkf8"
      }
    },
    {
      "cell_type": "code",
      "source": [
        "no_samples = len(df.index)\n",
        "no_features = len(df.columns)\n",
        "print(no_samples)\n",
        "print(no_features)"
      ],
      "metadata": {
        "colab": {
          "base_uri": "https://localhost:8080/"
        },
        "id": "ZWK9pvR2SXDJ",
        "outputId": "4b564398-93a0-419c-bfa4-7fbbac51de6f"
      },
      "execution_count": 130,
      "outputs": [
        {
          "output_type": "stream",
          "name": "stdout",
          "text": [
            "155\n",
            "20\n"
          ]
        }
      ]
    },
    {
      "cell_type": "markdown",
      "source": [
        "Check which columns have missing values"
      ],
      "metadata": {
        "id": "NyE5GdypToFn"
      }
    },
    {
      "cell_type": "code",
      "source": [
        "columns_missing_values = return_columns_missing_values(df)\n",
        "print(columns_missing_values)"
      ],
      "metadata": {
        "colab": {
          "base_uri": "https://localhost:8080/"
        },
        "id": "tcERSELJTDwX",
        "outputId": "de2f8778-0426-478f-ab73-e820676c3b30"
      },
      "execution_count": 131,
      "outputs": [
        {
          "output_type": "stream",
          "name": "stdout",
          "text": [
            "Index(['BILIRUBIN', 'ALK_PHOSPHATE', 'SGOT', 'ALBUMIN', 'PROTIME'], dtype='object')\n"
          ]
        }
      ]
    },
    {
      "cell_type": "markdown",
      "source": [
        "# Data Cleaning"
      ],
      "metadata": {
        "id": "H5WmCapuQl7j"
      }
    },
    {
      "cell_type": "markdown",
      "source": [
        "Drop features with more than 40% of missing values"
      ],
      "metadata": {
        "id": "LfwMQ0K9Qu3q"
      }
    },
    {
      "cell_type": "code",
      "source": [
        "for column_name in columns_missing_values:\n",
        "  column_missing_values_percentage = missing_value_column_percentage(df, column_name)\n",
        "  if(column_missing_values_percentage > 40):\n",
        "    df = df.drop(column_name, axis=1)"
      ],
      "metadata": {
        "id": "DvknWSEhVSi1"
      },
      "execution_count": 132,
      "outputs": []
    },
    {
      "cell_type": "code",
      "source": [
        "# drop missing values\n",
        "df1 = df.dropna()\n",
        "# fill missing values with median\n",
        "df2 = df.fillna(df.median())"
      ],
      "metadata": {
        "colab": {
          "base_uri": "https://localhost:8080/"
        },
        "id": "X61sZVS0Lwtu",
        "outputId": "b757d650-c2e2-4f90-e8d7-7876f4ed4f3c"
      },
      "execution_count": 133,
      "outputs": [
        {
          "output_type": "stream",
          "name": "stderr",
          "text": [
            "/usr/local/lib/python3.7/dist-packages/ipykernel_launcher.py:4: FutureWarning: Dropping of nuisance columns in DataFrame reductions (with 'numeric_only=None') is deprecated; in a future version this will raise TypeError.  Select only valid columns before calling the reduction.\n",
            "  after removing the cwd from sys.path.\n"
          ]
        }
      ]
    },
    {
      "cell_type": "markdown",
      "source": [
        " Transform categorical features into integer-valued features, using progressive integer labels. You have to do it\n",
        "for both df1 and df2."
      ],
      "metadata": {
        "id": "eftlBlsCMtXL"
      }
    },
    {
      "cell_type": "code",
      "source": [
        "df1 = convert_object_datatypes_to_categorical(df1)\n",
        "df2 = convert_object_datatypes_to_categorical(df2)"
      ],
      "metadata": {
        "colab": {
          "base_uri": "https://localhost:8080/"
        },
        "id": "xs2dg3N4OHPs",
        "outputId": "c5538381-6735-4e09-a028-331b1119ce9d"
      },
      "execution_count": 134,
      "outputs": [
        {
          "output_type": "stream",
          "name": "stderr",
          "text": [
            "/usr/local/lib/python3.7/dist-packages/ipykernel_launcher.py:4: SettingWithCopyWarning: \n",
            "A value is trying to be set on a copy of a slice from a DataFrame.\n",
            "Try using .loc[row_indexer,col_indexer] = value instead\n",
            "\n",
            "See the caveats in the documentation: https://pandas.pydata.org/pandas-docs/stable/user_guide/indexing.html#returning-a-view-versus-a-copy\n",
            "  after removing the cwd from sys.path.\n"
          ]
        }
      ]
    },
    {
      "cell_type": "code",
      "source": [
        "df1.dtypes"
      ],
      "metadata": {
        "colab": {
          "base_uri": "https://localhost:8080/"
        },
        "id": "Twt846OhOtSB",
        "outputId": "7f5178f8-b0e6-418a-fad6-fb28cfbb1a5a"
      },
      "execution_count": 135,
      "outputs": [
        {
          "output_type": "execute_result",
          "data": {
            "text/plain": [
              "AGE                 float64\n",
              "SEX                category\n",
              "STEROID            category\n",
              "ANTIVIRALS         category\n",
              "FATIGUE            category\n",
              "MALAISE            category\n",
              "ANOREXIA           category\n",
              "LIVER_BIG          category\n",
              "LIVER_FIRM         category\n",
              "SPLEEN_PALPABLE    category\n",
              "SPIDERS            category\n",
              "ASCITES            category\n",
              "VARICES            category\n",
              "BILIRUBIN           float64\n",
              "ALK_PHOSPHATE       float64\n",
              "SGOT                float64\n",
              "ALBUMIN             float64\n",
              "HISTOLOGY          category\n",
              "Class              category\n",
              "dtype: object"
            ]
          },
          "metadata": {},
          "execution_count": 135
        }
      ]
    },
    {
      "cell_type": "code",
      "source": [
        "df1 = convert_categorical_to_integer(df1)\n",
        "df2 = convert_categorical_to_integer(df2)"
      ],
      "metadata": {
        "colab": {
          "base_uri": "https://localhost:8080/"
        },
        "id": "zg9F9vsTMvaj",
        "outputId": "6b801ef1-b7e9-4297-c02e-28ba314171e7"
      },
      "execution_count": 136,
      "outputs": [
        {
          "output_type": "stream",
          "name": "stderr",
          "text": [
            "/usr/local/lib/python3.7/dist-packages/pandas/core/frame.py:3641: SettingWithCopyWarning: \n",
            "A value is trying to be set on a copy of a slice from a DataFrame.\n",
            "Try using .loc[row_indexer,col_indexer] = value instead\n",
            "\n",
            "See the caveats in the documentation: https://pandas.pydata.org/pandas-docs/stable/user_guide/indexing.html#returning-a-view-versus-a-copy\n",
            "  self[k1] = value[k2]\n"
          ]
        }
      ]
    },
    {
      "cell_type": "markdown",
      "source": [
        "\n",
        "# Normalisation"
      ],
      "metadata": {
        "id": "ZcrpxtgWRpn5"
      }
    },
    {
      "cell_type": "code",
      "source": [
        "y1 = df1['Class']\n",
        "X1 = df1.drop(\"Class\", axis=1)\n",
        "\n",
        "y2 = df2['Class']\n",
        "X2 = df2.drop(\"Class\", axis=1)\n",
        "\n",
        "standardizer = StandardScaler()\n",
        "X1 = standardizer.fit_transform(X1)\n",
        "X2 = standardizer.fit_transform(X2)"
      ],
      "metadata": {
        "id": "9KuhdvI_SKMO"
      },
      "execution_count": 137,
      "outputs": []
    },
    {
      "cell_type": "code",
      "source": [
        "print(y1.head(100))"
      ],
      "metadata": {
        "colab": {
          "base_uri": "https://localhost:8080/"
        },
        "id": "7bddBfsidRw3",
        "outputId": "bdcc390c-37ef-4065-eb98-50caebed963e"
      },
      "execution_count": 138,
      "outputs": [
        {
          "output_type": "stream",
          "name": "stdout",
          "text": [
            "0      1\n",
            "1      1\n",
            "2      1\n",
            "3      1\n",
            "5      1\n",
            "      ..\n",
            "124    1\n",
            "125    1\n",
            "127    0\n",
            "128    1\n",
            "129    0\n",
            "Name: Class, Length: 100, dtype: int8\n"
          ]
        }
      ]
    },
    {
      "cell_type": "markdown",
      "source": [
        "\n",
        "# Feature Selection"
      ],
      "metadata": {
        "id": "FbFeVWlBT51r"
      }
    },
    {
      "cell_type": "code",
      "source": [
        "knn = KNeighborsClassifier(n_neighbors=4) # ml_algo used = knn\n",
        "\n",
        "fss1 = SFS(knn,\n",
        "k_features=5,\n",
        "forward=True, # if forward = True then SFS otherwise SBS\n",
        "floating=False,\n",
        "verbose=2,\n",
        "scoring='accuracy'\n",
        ")\n",
        "\n",
        "bss1 = SFS(knn,\n",
        "k_features=5,\n",
        "forward=False, # if forward = True then SFS otherwise SBS\n",
        "floating=False,\n",
        "verbose=2,\n",
        "scoring='accuracy'\n",
        ")\n",
        "\n",
        "fss2 = SFS(knn,\n",
        "k_features=5,\n",
        "forward=True, # if forward = True then SFS otherwise SBS\n",
        "floating=False,\n",
        "verbose=2,\n",
        "scoring='accuracy'\n",
        ")\n",
        "\n",
        "bss2 = SFS(knn,\n",
        "k_features=5,\n",
        "forward=False, # if forward = True then SFS otherwise SBS\n",
        "floating=False,\n",
        "verbose=2,\n",
        "scoring='accuracy'\n",
        ")\n",
        "\n",
        "#after applying sfs fit the data:\n",
        "fss1.fit(X1, y1)\n",
        "bss1.fit(X1,y1)\n",
        "\n",
        "fss2.fit(X1, y1)\n",
        "bss2.fit(X1,y1)"
      ],
      "metadata": {
        "colab": {
          "base_uri": "https://localhost:8080/"
        },
        "id": "yr4GeAf_WBhT",
        "outputId": "7fa5662a-9e4f-41ab-9eea-7a6a8200b703"
      },
      "execution_count": 139,
      "outputs": [
        {
          "output_type": "stream",
          "name": "stderr",
          "text": [
            "[Parallel(n_jobs=1)]: Using backend SequentialBackend with 1 concurrent workers.\n",
            "[Parallel(n_jobs=1)]: Done   1 out of   1 | elapsed:    0.0s remaining:    0.0s\n",
            "[Parallel(n_jobs=1)]: Done  18 out of  18 | elapsed:    0.2s finished\n",
            "\n",
            "[2022-10-17 15:27:52] Features: 1/5 -- score: 0.8666666666666668[Parallel(n_jobs=1)]: Using backend SequentialBackend with 1 concurrent workers.\n",
            "[Parallel(n_jobs=1)]: Done   1 out of   1 | elapsed:    0.0s remaining:    0.0s\n",
            "[Parallel(n_jobs=1)]: Done  17 out of  17 | elapsed:    0.2s finished\n",
            "\n",
            "[2022-10-17 15:27:52] Features: 2/5 -- score: 0.8666666666666668[Parallel(n_jobs=1)]: Using backend SequentialBackend with 1 concurrent workers.\n",
            "[Parallel(n_jobs=1)]: Done   1 out of   1 | elapsed:    0.0s remaining:    0.0s\n",
            "[Parallel(n_jobs=1)]: Done  16 out of  16 | elapsed:    0.2s finished\n",
            "\n",
            "[2022-10-17 15:27:53] Features: 3/5 -- score: 0.8666666666666668[Parallel(n_jobs=1)]: Using backend SequentialBackend with 1 concurrent workers.\n",
            "[Parallel(n_jobs=1)]: Done   1 out of   1 | elapsed:    0.0s remaining:    0.0s\n",
            "[Parallel(n_jobs=1)]: Done  15 out of  15 | elapsed:    0.2s finished\n",
            "\n",
            "[2022-10-17 15:27:53] Features: 4/5 -- score: 0.8666666666666668[Parallel(n_jobs=1)]: Using backend SequentialBackend with 1 concurrent workers.\n",
            "[Parallel(n_jobs=1)]: Done   1 out of   1 | elapsed:    0.0s remaining:    0.0s\n",
            "[Parallel(n_jobs=1)]: Done  14 out of  14 | elapsed:    0.2s finished\n",
            "\n",
            "[2022-10-17 15:27:53] Features: 5/5 -- score: 0.85[Parallel(n_jobs=1)]: Using backend SequentialBackend with 1 concurrent workers.\n",
            "[Parallel(n_jobs=1)]: Done   1 out of   1 | elapsed:    0.0s remaining:    0.0s\n",
            "[Parallel(n_jobs=1)]: Done  18 out of  18 | elapsed:    0.2s finished\n",
            "\n",
            "[2022-10-17 15:27:53] Features: 17/5 -- score: 0.85[Parallel(n_jobs=1)]: Using backend SequentialBackend with 1 concurrent workers.\n",
            "[Parallel(n_jobs=1)]: Done   1 out of   1 | elapsed:    0.0s remaining:    0.0s\n",
            "[Parallel(n_jobs=1)]: Done  17 out of  17 | elapsed:    0.2s finished\n",
            "\n",
            "[2022-10-17 15:27:53] Features: 16/5 -- score: 0.8666666666666666[Parallel(n_jobs=1)]: Using backend SequentialBackend with 1 concurrent workers.\n",
            "[Parallel(n_jobs=1)]: Done   1 out of   1 | elapsed:    0.0s remaining:    0.0s\n",
            "[Parallel(n_jobs=1)]: Done  16 out of  16 | elapsed:    0.2s finished\n",
            "\n",
            "[2022-10-17 15:27:53] Features: 15/5 -- score: 0.8666666666666666[Parallel(n_jobs=1)]: Using backend SequentialBackend with 1 concurrent workers.\n",
            "[Parallel(n_jobs=1)]: Done   1 out of   1 | elapsed:    0.0s remaining:    0.0s\n",
            "[Parallel(n_jobs=1)]: Done  15 out of  15 | elapsed:    0.2s finished\n",
            "\n",
            "[2022-10-17 15:27:54] Features: 14/5 -- score: 0.8666666666666668[Parallel(n_jobs=1)]: Using backend SequentialBackend with 1 concurrent workers.\n",
            "[Parallel(n_jobs=1)]: Done   1 out of   1 | elapsed:    0.0s remaining:    0.0s\n",
            "[Parallel(n_jobs=1)]: Done  14 out of  14 | elapsed:    0.1s finished\n",
            "\n",
            "[2022-10-17 15:27:54] Features: 13/5 -- score: 0.875[Parallel(n_jobs=1)]: Using backend SequentialBackend with 1 concurrent workers.\n",
            "[Parallel(n_jobs=1)]: Done   1 out of   1 | elapsed:    0.0s remaining:    0.0s\n",
            "[Parallel(n_jobs=1)]: Done  13 out of  13 | elapsed:    0.1s finished\n",
            "\n",
            "[2022-10-17 15:27:54] Features: 12/5 -- score: 0.875[Parallel(n_jobs=1)]: Using backend SequentialBackend with 1 concurrent workers.\n",
            "[Parallel(n_jobs=1)]: Done   1 out of   1 | elapsed:    0.0s remaining:    0.0s\n",
            "[Parallel(n_jobs=1)]: Done  12 out of  12 | elapsed:    0.1s finished\n",
            "\n",
            "[2022-10-17 15:27:54] Features: 11/5 -- score: 0.875[Parallel(n_jobs=1)]: Using backend SequentialBackend with 1 concurrent workers.\n",
            "[Parallel(n_jobs=1)]: Done   1 out of   1 | elapsed:    0.0s remaining:    0.0s\n",
            "[Parallel(n_jobs=1)]: Done  11 out of  11 | elapsed:    0.1s finished\n",
            "\n",
            "[2022-10-17 15:27:54] Features: 10/5 -- score: 0.9[Parallel(n_jobs=1)]: Using backend SequentialBackend with 1 concurrent workers.\n",
            "[Parallel(n_jobs=1)]: Done   1 out of   1 | elapsed:    0.0s remaining:    0.0s\n",
            "[Parallel(n_jobs=1)]: Done  10 out of  10 | elapsed:    0.1s finished\n",
            "\n",
            "[2022-10-17 15:27:54] Features: 9/5 -- score: 0.9[Parallel(n_jobs=1)]: Using backend SequentialBackend with 1 concurrent workers.\n",
            "[Parallel(n_jobs=1)]: Done   1 out of   1 | elapsed:    0.0s remaining:    0.0s\n",
            "[Parallel(n_jobs=1)]: Done   9 out of   9 | elapsed:    0.1s finished\n",
            "\n",
            "[2022-10-17 15:27:54] Features: 8/5 -- score: 0.8916666666666666[Parallel(n_jobs=1)]: Using backend SequentialBackend with 1 concurrent workers.\n",
            "[Parallel(n_jobs=1)]: Done   1 out of   1 | elapsed:    0.0s remaining:    0.0s\n",
            "[Parallel(n_jobs=1)]: Done   8 out of   8 | elapsed:    0.1s finished\n",
            "\n",
            "[2022-10-17 15:27:54] Features: 7/5 -- score: 0.875[Parallel(n_jobs=1)]: Using backend SequentialBackend with 1 concurrent workers.\n",
            "[Parallel(n_jobs=1)]: Done   1 out of   1 | elapsed:    0.0s remaining:    0.0s\n",
            "[Parallel(n_jobs=1)]: Done   7 out of   7 | elapsed:    0.1s finished\n",
            "\n",
            "[2022-10-17 15:27:54] Features: 6/5 -- score: 0.8666666666666668[Parallel(n_jobs=1)]: Using backend SequentialBackend with 1 concurrent workers.\n",
            "[Parallel(n_jobs=1)]: Done   1 out of   1 | elapsed:    0.0s remaining:    0.0s\n",
            "[Parallel(n_jobs=1)]: Done   6 out of   6 | elapsed:    0.1s finished\n",
            "\n",
            "[2022-10-17 15:27:55] Features: 5/5 -- score: 0.85[Parallel(n_jobs=1)]: Using backend SequentialBackend with 1 concurrent workers.\n",
            "[Parallel(n_jobs=1)]: Done   1 out of   1 | elapsed:    0.0s remaining:    0.0s\n",
            "[Parallel(n_jobs=1)]: Done  18 out of  18 | elapsed:    0.2s finished\n",
            "\n",
            "[2022-10-17 15:27:55] Features: 1/5 -- score: 0.8666666666666668[Parallel(n_jobs=1)]: Using backend SequentialBackend with 1 concurrent workers.\n",
            "[Parallel(n_jobs=1)]: Done   1 out of   1 | elapsed:    0.0s remaining:    0.0s\n",
            "[Parallel(n_jobs=1)]: Done  17 out of  17 | elapsed:    0.2s finished\n",
            "\n",
            "[2022-10-17 15:27:55] Features: 2/5 -- score: 0.8666666666666668[Parallel(n_jobs=1)]: Using backend SequentialBackend with 1 concurrent workers.\n",
            "[Parallel(n_jobs=1)]: Done   1 out of   1 | elapsed:    0.0s remaining:    0.0s\n",
            "[Parallel(n_jobs=1)]: Done  16 out of  16 | elapsed:    0.2s finished\n",
            "\n",
            "[2022-10-17 15:27:55] Features: 3/5 -- score: 0.8666666666666668[Parallel(n_jobs=1)]: Using backend SequentialBackend with 1 concurrent workers.\n",
            "[Parallel(n_jobs=1)]: Done   1 out of   1 | elapsed:    0.0s remaining:    0.0s\n",
            "[Parallel(n_jobs=1)]: Done  15 out of  15 | elapsed:    0.2s finished\n",
            "\n",
            "[2022-10-17 15:27:55] Features: 4/5 -- score: 0.8666666666666668[Parallel(n_jobs=1)]: Using backend SequentialBackend with 1 concurrent workers.\n",
            "[Parallel(n_jobs=1)]: Done   1 out of   1 | elapsed:    0.0s remaining:    0.0s\n",
            "[Parallel(n_jobs=1)]: Done  14 out of  14 | elapsed:    0.1s finished\n",
            "\n",
            "[2022-10-17 15:27:55] Features: 5/5 -- score: 0.85[Parallel(n_jobs=1)]: Using backend SequentialBackend with 1 concurrent workers.\n",
            "[Parallel(n_jobs=1)]: Done   1 out of   1 | elapsed:    0.0s remaining:    0.0s\n",
            "[Parallel(n_jobs=1)]: Done  18 out of  18 | elapsed:    0.2s finished\n",
            "\n",
            "[2022-10-17 15:27:56] Features: 17/5 -- score: 0.85[Parallel(n_jobs=1)]: Using backend SequentialBackend with 1 concurrent workers.\n",
            "[Parallel(n_jobs=1)]: Done   1 out of   1 | elapsed:    0.0s remaining:    0.0s\n",
            "[Parallel(n_jobs=1)]: Done  17 out of  17 | elapsed:    0.2s finished\n",
            "\n",
            "[2022-10-17 15:27:56] Features: 16/5 -- score: 0.8666666666666666[Parallel(n_jobs=1)]: Using backend SequentialBackend with 1 concurrent workers.\n",
            "[Parallel(n_jobs=1)]: Done   1 out of   1 | elapsed:    0.0s remaining:    0.0s\n",
            "[Parallel(n_jobs=1)]: Done  16 out of  16 | elapsed:    0.2s finished\n",
            "\n",
            "[2022-10-17 15:27:56] Features: 15/5 -- score: 0.8666666666666666[Parallel(n_jobs=1)]: Using backend SequentialBackend with 1 concurrent workers.\n",
            "[Parallel(n_jobs=1)]: Done   1 out of   1 | elapsed:    0.0s remaining:    0.0s\n",
            "[Parallel(n_jobs=1)]: Done  15 out of  15 | elapsed:    0.2s finished\n",
            "\n",
            "[2022-10-17 15:27:56] Features: 14/5 -- score: 0.8666666666666668[Parallel(n_jobs=1)]: Using backend SequentialBackend with 1 concurrent workers.\n",
            "[Parallel(n_jobs=1)]: Done   1 out of   1 | elapsed:    0.0s remaining:    0.0s\n",
            "[Parallel(n_jobs=1)]: Done  14 out of  14 | elapsed:    0.1s finished\n",
            "\n",
            "[2022-10-17 15:27:56] Features: 13/5 -- score: 0.875[Parallel(n_jobs=1)]: Using backend SequentialBackend with 1 concurrent workers.\n",
            "[Parallel(n_jobs=1)]: Done   1 out of   1 | elapsed:    0.0s remaining:    0.0s\n",
            "[Parallel(n_jobs=1)]: Done  13 out of  13 | elapsed:    0.1s finished\n",
            "\n",
            "[2022-10-17 15:27:56] Features: 12/5 -- score: 0.875[Parallel(n_jobs=1)]: Using backend SequentialBackend with 1 concurrent workers.\n",
            "[Parallel(n_jobs=1)]: Done   1 out of   1 | elapsed:    0.0s remaining:    0.0s\n",
            "[Parallel(n_jobs=1)]: Done  12 out of  12 | elapsed:    0.1s finished\n",
            "\n",
            "[2022-10-17 15:27:56] Features: 11/5 -- score: 0.875[Parallel(n_jobs=1)]: Using backend SequentialBackend with 1 concurrent workers.\n",
            "[Parallel(n_jobs=1)]: Done   1 out of   1 | elapsed:    0.0s remaining:    0.0s\n",
            "[Parallel(n_jobs=1)]: Done  11 out of  11 | elapsed:    0.1s finished\n",
            "\n",
            "[2022-10-17 15:27:57] Features: 10/5 -- score: 0.9[Parallel(n_jobs=1)]: Using backend SequentialBackend with 1 concurrent workers.\n",
            "[Parallel(n_jobs=1)]: Done   1 out of   1 | elapsed:    0.0s remaining:    0.0s\n",
            "[Parallel(n_jobs=1)]: Done  10 out of  10 | elapsed:    0.1s finished\n",
            "\n",
            "[2022-10-17 15:27:57] Features: 9/5 -- score: 0.9[Parallel(n_jobs=1)]: Using backend SequentialBackend with 1 concurrent workers.\n",
            "[Parallel(n_jobs=1)]: Done   1 out of   1 | elapsed:    0.0s remaining:    0.0s\n",
            "[Parallel(n_jobs=1)]: Done   9 out of   9 | elapsed:    0.1s finished\n",
            "\n",
            "[2022-10-17 15:27:57] Features: 8/5 -- score: 0.8916666666666666[Parallel(n_jobs=1)]: Using backend SequentialBackend with 1 concurrent workers.\n",
            "[Parallel(n_jobs=1)]: Done   1 out of   1 | elapsed:    0.0s remaining:    0.0s\n",
            "[Parallel(n_jobs=1)]: Done   8 out of   8 | elapsed:    0.1s finished\n",
            "\n",
            "[2022-10-17 15:27:57] Features: 7/5 -- score: 0.875[Parallel(n_jobs=1)]: Using backend SequentialBackend with 1 concurrent workers.\n",
            "[Parallel(n_jobs=1)]: Done   1 out of   1 | elapsed:    0.0s remaining:    0.0s\n",
            "[Parallel(n_jobs=1)]: Done   7 out of   7 | elapsed:    0.1s finished\n",
            "\n",
            "[2022-10-17 15:27:57] Features: 6/5 -- score: 0.8666666666666668[Parallel(n_jobs=1)]: Using backend SequentialBackend with 1 concurrent workers.\n",
            "[Parallel(n_jobs=1)]: Done   1 out of   1 | elapsed:    0.0s remaining:    0.0s\n",
            "[Parallel(n_jobs=1)]: Done   6 out of   6 | elapsed:    0.1s finished\n",
            "\n",
            "[2022-10-17 15:27:57] Features: 5/5 -- score: 0.85"
          ]
        },
        {
          "output_type": "execute_result",
          "data": {
            "text/plain": [
              "SequentialFeatureSelector(estimator=KNeighborsClassifier(n_neighbors=4),\n",
              "                          forward=False, k_features=5, scoring='accuracy',\n",
              "                          verbose=2)"
            ]
          },
          "metadata": {},
          "execution_count": 139
        }
      ]
    },
    {
      "cell_type": "markdown",
      "source": [
        "# PCA (feature reduction)"
      ],
      "metadata": {
        "id": "DTVd7aR7UAr1"
      }
    },
    {
      "cell_type": "code",
      "source": [
        "pca = PCA(n_components=5)\n",
        "principalComponents1 = pca.fit_transform(X1)\n",
        "\n",
        "principal_component_df1 = pd.DataFrame(data = principalComponents1\n",
        "             , columns = ['principal component 1', 'principal component 2','principal component 3', 'principal component 4','principal component 5'])\n",
        "\n",
        "principal_component_df1.tail()"
      ],
      "metadata": {
        "colab": {
          "base_uri": "https://localhost:8080/",
          "height": 206
        },
        "id": "omR6d51db92N",
        "outputId": "53c63e32-9420-4783-c37c-33a5dc10b900"
      },
      "execution_count": 140,
      "outputs": [
        {
          "output_type": "execute_result",
          "data": {
            "text/plain": [
              "     principal component 1  principal component 2  principal component 3  \\\n",
              "115              -1.220112              -1.212932              -1.094972   \n",
              "116              -0.080074              -0.205704              -0.456207   \n",
              "117               1.067231               0.857912              -0.079264   \n",
              "118               1.557447              -1.777749               0.676933   \n",
              "119               1.980189              -2.156425              -1.077784   \n",
              "\n",
              "     principal component 4  principal component 5  \n",
              "115               0.661552              -0.313786  \n",
              "116               1.050548               0.357005  \n",
              "117              -1.547214               0.850535  \n",
              "118              -0.271041               1.449051  \n",
              "119              -0.665747              -0.290179  "
            ],
            "text/html": [
              "\n",
              "  <div id=\"df-fa91b78d-7596-4225-8fb2-e2da38c796e9\">\n",
              "    <div class=\"colab-df-container\">\n",
              "      <div>\n",
              "<style scoped>\n",
              "    .dataframe tbody tr th:only-of-type {\n",
              "        vertical-align: middle;\n",
              "    }\n",
              "\n",
              "    .dataframe tbody tr th {\n",
              "        vertical-align: top;\n",
              "    }\n",
              "\n",
              "    .dataframe thead th {\n",
              "        text-align: right;\n",
              "    }\n",
              "</style>\n",
              "<table border=\"1\" class=\"dataframe\">\n",
              "  <thead>\n",
              "    <tr style=\"text-align: right;\">\n",
              "      <th></th>\n",
              "      <th>principal component 1</th>\n",
              "      <th>principal component 2</th>\n",
              "      <th>principal component 3</th>\n",
              "      <th>principal component 4</th>\n",
              "      <th>principal component 5</th>\n",
              "    </tr>\n",
              "  </thead>\n",
              "  <tbody>\n",
              "    <tr>\n",
              "      <th>115</th>\n",
              "      <td>-1.220112</td>\n",
              "      <td>-1.212932</td>\n",
              "      <td>-1.094972</td>\n",
              "      <td>0.661552</td>\n",
              "      <td>-0.313786</td>\n",
              "    </tr>\n",
              "    <tr>\n",
              "      <th>116</th>\n",
              "      <td>-0.080074</td>\n",
              "      <td>-0.205704</td>\n",
              "      <td>-0.456207</td>\n",
              "      <td>1.050548</td>\n",
              "      <td>0.357005</td>\n",
              "    </tr>\n",
              "    <tr>\n",
              "      <th>117</th>\n",
              "      <td>1.067231</td>\n",
              "      <td>0.857912</td>\n",
              "      <td>-0.079264</td>\n",
              "      <td>-1.547214</td>\n",
              "      <td>0.850535</td>\n",
              "    </tr>\n",
              "    <tr>\n",
              "      <th>118</th>\n",
              "      <td>1.557447</td>\n",
              "      <td>-1.777749</td>\n",
              "      <td>0.676933</td>\n",
              "      <td>-0.271041</td>\n",
              "      <td>1.449051</td>\n",
              "    </tr>\n",
              "    <tr>\n",
              "      <th>119</th>\n",
              "      <td>1.980189</td>\n",
              "      <td>-2.156425</td>\n",
              "      <td>-1.077784</td>\n",
              "      <td>-0.665747</td>\n",
              "      <td>-0.290179</td>\n",
              "    </tr>\n",
              "  </tbody>\n",
              "</table>\n",
              "</div>\n",
              "      <button class=\"colab-df-convert\" onclick=\"convertToInteractive('df-fa91b78d-7596-4225-8fb2-e2da38c796e9')\"\n",
              "              title=\"Convert this dataframe to an interactive table.\"\n",
              "              style=\"display:none;\">\n",
              "        \n",
              "  <svg xmlns=\"http://www.w3.org/2000/svg\" height=\"24px\"viewBox=\"0 0 24 24\"\n",
              "       width=\"24px\">\n",
              "    <path d=\"M0 0h24v24H0V0z\" fill=\"none\"/>\n",
              "    <path d=\"M18.56 5.44l.94 2.06.94-2.06 2.06-.94-2.06-.94-.94-2.06-.94 2.06-2.06.94zm-11 1L8.5 8.5l.94-2.06 2.06-.94-2.06-.94L8.5 2.5l-.94 2.06-2.06.94zm10 10l.94 2.06.94-2.06 2.06-.94-2.06-.94-.94-2.06-.94 2.06-2.06.94z\"/><path d=\"M17.41 7.96l-1.37-1.37c-.4-.4-.92-.59-1.43-.59-.52 0-1.04.2-1.43.59L10.3 9.45l-7.72 7.72c-.78.78-.78 2.05 0 2.83L4 21.41c.39.39.9.59 1.41.59.51 0 1.02-.2 1.41-.59l7.78-7.78 2.81-2.81c.8-.78.8-2.07 0-2.86zM5.41 20L4 18.59l7.72-7.72 1.47 1.35L5.41 20z\"/>\n",
              "  </svg>\n",
              "      </button>\n",
              "      \n",
              "  <style>\n",
              "    .colab-df-container {\n",
              "      display:flex;\n",
              "      flex-wrap:wrap;\n",
              "      gap: 12px;\n",
              "    }\n",
              "\n",
              "    .colab-df-convert {\n",
              "      background-color: #E8F0FE;\n",
              "      border: none;\n",
              "      border-radius: 50%;\n",
              "      cursor: pointer;\n",
              "      display: none;\n",
              "      fill: #1967D2;\n",
              "      height: 32px;\n",
              "      padding: 0 0 0 0;\n",
              "      width: 32px;\n",
              "    }\n",
              "\n",
              "    .colab-df-convert:hover {\n",
              "      background-color: #E2EBFA;\n",
              "      box-shadow: 0px 1px 2px rgba(60, 64, 67, 0.3), 0px 1px 3px 1px rgba(60, 64, 67, 0.15);\n",
              "      fill: #174EA6;\n",
              "    }\n",
              "\n",
              "    [theme=dark] .colab-df-convert {\n",
              "      background-color: #3B4455;\n",
              "      fill: #D2E3FC;\n",
              "    }\n",
              "\n",
              "    [theme=dark] .colab-df-convert:hover {\n",
              "      background-color: #434B5C;\n",
              "      box-shadow: 0px 1px 3px 1px rgba(0, 0, 0, 0.15);\n",
              "      filter: drop-shadow(0px 1px 2px rgba(0, 0, 0, 0.3));\n",
              "      fill: #FFFFFF;\n",
              "    }\n",
              "  </style>\n",
              "\n",
              "      <script>\n",
              "        const buttonEl =\n",
              "          document.querySelector('#df-fa91b78d-7596-4225-8fb2-e2da38c796e9 button.colab-df-convert');\n",
              "        buttonEl.style.display =\n",
              "          google.colab.kernel.accessAllowed ? 'block' : 'none';\n",
              "\n",
              "        async function convertToInteractive(key) {\n",
              "          const element = document.querySelector('#df-fa91b78d-7596-4225-8fb2-e2da38c796e9');\n",
              "          const dataTable =\n",
              "            await google.colab.kernel.invokeFunction('convertToInteractive',\n",
              "                                                     [key], {});\n",
              "          if (!dataTable) return;\n",
              "\n",
              "          const docLinkHtml = 'Like what you see? Visit the ' +\n",
              "            '<a target=\"_blank\" href=https://colab.research.google.com/notebooks/data_table.ipynb>data table notebook</a>'\n",
              "            + ' to learn more about interactive tables.';\n",
              "          element.innerHTML = '';\n",
              "          dataTable['output_type'] = 'display_data';\n",
              "          await google.colab.output.renderOutput(dataTable, element);\n",
              "          const docLink = document.createElement('div');\n",
              "          docLink.innerHTML = docLinkHtml;\n",
              "          element.appendChild(docLink);\n",
              "        }\n",
              "      </script>\n",
              "    </div>\n",
              "  </div>\n",
              "  "
            ]
          },
          "metadata": {},
          "execution_count": 140
        }
      ]
    },
    {
      "cell_type": "markdown",
      "source": [
        "principal component 1 holds 21.8% of the information while the principal component 2 holds only 12.7% of the information"
      ],
      "metadata": {
        "id": "xKceg6mThfpA"
      }
    },
    {
      "cell_type": "code",
      "source": [
        "print('Explained variation per principal component: {}'.format(pca.explained_variance_ratio_))"
      ],
      "metadata": {
        "colab": {
          "base_uri": "https://localhost:8080/"
        },
        "id": "yzL5-f66hT4r",
        "outputId": "7ec15e58-ee16-4487-efb2-ad3b265b430b"
      },
      "execution_count": 141,
      "outputs": [
        {
          "output_type": "stream",
          "name": "stdout",
          "text": [
            "Explained variation per principal component: [0.21837298 0.12725674 0.08343554 0.0714942  0.06564351]\n"
          ]
        }
      ]
    },
    {
      "cell_type": "markdown",
      "source": [
        "# Compare Performance"
      ],
      "metadata": {
        "id": "IYWfH0yUcAYy"
      }
    },
    {
      "cell_type": "code",
      "source": [
        "X1_train, X1_test, y1_train, y1_test = train_test_split(X1, y1, test_size=0.3, random_state=RANDOM_SEED)\n",
        "X2_train, X2_test, y2_train, y2_test = train_test_split(X2, y2, test_size=0.3, random_state=RANDOM_SEED)"
      ],
      "metadata": {
        "id": "CmBFcw-GU95j"
      },
      "execution_count": null,
      "outputs": []
    }
  ]
}
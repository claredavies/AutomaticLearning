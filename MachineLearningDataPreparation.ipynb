{
  "nbformat": 4,
  "nbformat_minor": 0,
  "metadata": {
    "colab": {
      "provenance": [],
      "collapsed_sections": [],
      "toc_visible": true,
      "authorship_tag": "ABX9TyMGcXxLDmwIE1T6AtdGP3hb",
      "include_colab_link": true
    },
    "kernelspec": {
      "name": "python3",
      "display_name": "Python 3"
    },
    "language_info": {
      "name": "python"
    }
  },
  "cells": [
    {
      "cell_type": "markdown",
      "metadata": {
        "id": "view-in-github",
        "colab_type": "text"
      },
      "source": [
        "<a href=\"https://colab.research.google.com/github/claredavies/AutomaticLearning/blob/main/MachineLearningDataPreparation.ipynb\" target=\"_parent\"><img src=\"https://colab.research.google.com/assets/colab-badge.svg\" alt=\"Open In Colab\"/></a>"
      ]
    },
    {
      "cell_type": "markdown",
      "source": [
        "Import Libraries"
      ],
      "metadata": {
        "id": "wqzD-17qQRiT"
      }
    },
    {
      "cell_type": "code",
      "source": [
        "from scipy.io import arff\n",
        "import pandas as pd"
      ],
      "metadata": {
        "id": "e8KDOAXKODXF"
      },
      "execution_count": 1,
      "outputs": []
    },
    {
      "cell_type": "markdown",
      "source": [
        "Function to read in arff"
      ],
      "metadata": {
        "id": "XBd8Ya8mQz_H"
      }
    },
    {
      "cell_type": "markdown",
      "source": [
        "# Functions"
      ],
      "metadata": {
        "id": "g8YAUqRmTGV3"
      }
    },
    {
      "cell_type": "code",
      "execution_count": 2,
      "metadata": {
        "id": "HwwuBH12MWmJ"
      },
      "outputs": [],
      "source": [
        "def read_arff_as_df_scipy( filename ):\n",
        " # input : name of the file where the dataset is stored\n",
        " # output : a dataframe\n",
        " dataset = arff.loadarff(filename)\n",
        " df = pd.DataFrame( dataset[0] , columns = dataset[1])\n",
        " return df"
      ]
    },
    {
      "cell_type": "code",
      "source": [
        "def return_columns_missing_values(df):\n",
        "  return df.columns[df.isnull().any()]"
      ],
      "metadata": {
        "id": "-6gjP9vETA3T"
      },
      "execution_count": 3,
      "outputs": []
    },
    {
      "cell_type": "code",
      "source": [
        "def missing_value_column_percentage(dataframe, column_name):\n",
        "  percent_missing = dataframe.loc[:, column_name].isnull().sum() * 100 / len(dataframe)\n",
        "  return percent_missing"
      ],
      "metadata": {
        "id": "KZrJmD2_UxrU"
      },
      "execution_count": 15,
      "outputs": []
    },
    {
      "cell_type": "code",
      "source": [
        "def convert_object_datatypes_to_categorical(dataframe):\n",
        "  for column_name in dataframe:\n",
        "    if(dataframe[column_name].dtype == object):\n",
        "      dataframe[column_name] = dataframe[column_name].astype('category')\n",
        "  return dataframe"
      ],
      "metadata": {
        "id": "UxrXePXpPW00"
      },
      "execution_count": 28,
      "outputs": []
    },
    {
      "cell_type": "code",
      "source": [
        "def convert_categorical_to_integer(dataframe):\n",
        "  cat_columns = dataframe.select_dtypes(['category']).columns\n",
        "  dataframe[cat_columns] = dataframe[cat_columns].apply(lambda x: x.cat.codes)\n",
        "  return dataframe"
      ],
      "metadata": {
        "id": "dAQ7CI-TP6Ca"
      },
      "execution_count": 35,
      "outputs": []
    },
    {
      "cell_type": "markdown",
      "source": [
        "# Read in Data"
      ],
      "metadata": {
        "id": "FhTtCrzxTNou"
      }
    },
    {
      "cell_type": "code",
      "source": [
        "df = read_arff_as_df_scipy('dataset_55_hepatitis.arff')"
      ],
      "metadata": {
        "id": "I3uj2mvaQ9f3"
      },
      "execution_count": 37,
      "outputs": []
    },
    {
      "cell_type": "markdown",
      "source": [
        "# Data Exploration"
      ],
      "metadata": {
        "id": "zw_N1peRR_to"
      }
    },
    {
      "cell_type": "code",
      "source": [
        "print(df.info)"
      ],
      "metadata": {
        "colab": {
          "base_uri": "https://localhost:8080/"
        },
        "id": "UJ9Ci9CxSIPL",
        "outputId": "66dad3bd-bc25-43ce-9ded-a41df1f300e8"
      },
      "execution_count": 6,
      "outputs": [
        {
          "output_type": "stream",
          "name": "stdout",
          "text": [
            "<bound method DataFrame.info of       AGE        SEX STEROID ANTIVIRALS FATIGUE MALAISE ANOREXIA LIVER_BIG  \\\n",
            "0    30.0    b'male'   b'no'      b'no'   b'no'   b'no'    b'no'     b'no'   \n",
            "1    50.0  b'female'   b'no'      b'no'  b'yes'   b'no'    b'no'     b'no'   \n",
            "2    78.0  b'female'  b'yes'      b'no'  b'yes'   b'no'    b'no'    b'yes'   \n",
            "3    31.0  b'female'    b'?'     b'yes'   b'no'   b'no'    b'no'    b'yes'   \n",
            "4    34.0  b'female'  b'yes'      b'no'   b'no'   b'no'    b'no'    b'yes'   \n",
            "..    ...        ...     ...        ...     ...     ...      ...       ...   \n",
            "150  46.0  b'female'  b'yes'      b'no'  b'yes'  b'yes'   b'yes'    b'yes'   \n",
            "151  44.0  b'female'  b'yes'      b'no'  b'yes'   b'no'    b'no'    b'yes'   \n",
            "152  61.0  b'female'   b'no'      b'no'  b'yes'  b'yes'    b'no'     b'no'   \n",
            "153  53.0    b'male'   b'no'      b'no'  b'yes'   b'no'    b'no'    b'yes'   \n",
            "154  43.0  b'female'  b'yes'      b'no'  b'yes'   b'no'    b'no'    b'yes'   \n",
            "\n",
            "    LIVER_FIRM SPLEEN_PALPABLE SPIDERS ASCITES VARICES  BILIRUBIN  \\\n",
            "0        b'no'           b'no'   b'no'   b'no'   b'no'        1.0   \n",
            "1        b'no'           b'no'   b'no'   b'no'   b'no'        0.9   \n",
            "2        b'no'           b'no'   b'no'   b'no'   b'no'        0.7   \n",
            "3        b'no'           b'no'   b'no'   b'no'   b'no'        0.7   \n",
            "4        b'no'           b'no'   b'no'   b'no'   b'no'        1.0   \n",
            "..         ...             ...     ...     ...     ...        ...   \n",
            "150      b'no'           b'no'  b'yes'  b'yes'  b'yes'        7.6   \n",
            "151     b'yes'           b'no'   b'no'   b'no'   b'no'        0.9   \n",
            "152     b'yes'           b'no'  b'yes'   b'no'   b'no'        0.8   \n",
            "153      b'no'          b'yes'  b'yes'   b'no'  b'yes'        1.5   \n",
            "154      b'no'          b'yes'  b'yes'  b'yes'   b'no'        1.2   \n",
            "\n",
            "     ALK_PHOSPHATE   SGOT  ALBUMIN  PROTIME HISTOLOGY    Class  \n",
            "0             85.0   18.0      4.0      NaN     b'no'  b'LIVE'  \n",
            "1            135.0   42.0      3.5      NaN     b'no'  b'LIVE'  \n",
            "2             96.0   32.0      4.0      NaN     b'no'  b'LIVE'  \n",
            "3             46.0   52.0      4.0     80.0     b'no'  b'LIVE'  \n",
            "4              NaN  200.0      4.0      NaN     b'no'  b'LIVE'  \n",
            "..             ...    ...      ...      ...       ...      ...  \n",
            "150            NaN  242.0      3.3     50.0    b'yes'   b'DIE'  \n",
            "151          126.0  142.0      4.3      NaN    b'yes'  b'LIVE'  \n",
            "152           75.0   20.0      4.1      NaN    b'yes'  b'LIVE'  \n",
            "153           81.0   19.0      4.1     48.0    b'yes'  b'LIVE'  \n",
            "154          100.0   19.0      3.1     42.0    b'yes'   b'DIE'  \n",
            "\n",
            "[155 rows x 20 columns]>\n"
          ]
        }
      ]
    },
    {
      "cell_type": "code",
      "source": [
        "print(df.head)"
      ],
      "metadata": {
        "colab": {
          "base_uri": "https://localhost:8080/"
        },
        "id": "CIXAnVZrQzGE",
        "outputId": "9885e651-741c-4e4d-f3b2-371e815c6118"
      },
      "execution_count": 7,
      "outputs": [
        {
          "output_type": "stream",
          "name": "stdout",
          "text": [
            "<bound method NDFrame.head of       AGE        SEX STEROID ANTIVIRALS FATIGUE MALAISE ANOREXIA LIVER_BIG  \\\n",
            "0    30.0    b'male'   b'no'      b'no'   b'no'   b'no'    b'no'     b'no'   \n",
            "1    50.0  b'female'   b'no'      b'no'  b'yes'   b'no'    b'no'     b'no'   \n",
            "2    78.0  b'female'  b'yes'      b'no'  b'yes'   b'no'    b'no'    b'yes'   \n",
            "3    31.0  b'female'    b'?'     b'yes'   b'no'   b'no'    b'no'    b'yes'   \n",
            "4    34.0  b'female'  b'yes'      b'no'   b'no'   b'no'    b'no'    b'yes'   \n",
            "..    ...        ...     ...        ...     ...     ...      ...       ...   \n",
            "150  46.0  b'female'  b'yes'      b'no'  b'yes'  b'yes'   b'yes'    b'yes'   \n",
            "151  44.0  b'female'  b'yes'      b'no'  b'yes'   b'no'    b'no'    b'yes'   \n",
            "152  61.0  b'female'   b'no'      b'no'  b'yes'  b'yes'    b'no'     b'no'   \n",
            "153  53.0    b'male'   b'no'      b'no'  b'yes'   b'no'    b'no'    b'yes'   \n",
            "154  43.0  b'female'  b'yes'      b'no'  b'yes'   b'no'    b'no'    b'yes'   \n",
            "\n",
            "    LIVER_FIRM SPLEEN_PALPABLE SPIDERS ASCITES VARICES  BILIRUBIN  \\\n",
            "0        b'no'           b'no'   b'no'   b'no'   b'no'        1.0   \n",
            "1        b'no'           b'no'   b'no'   b'no'   b'no'        0.9   \n",
            "2        b'no'           b'no'   b'no'   b'no'   b'no'        0.7   \n",
            "3        b'no'           b'no'   b'no'   b'no'   b'no'        0.7   \n",
            "4        b'no'           b'no'   b'no'   b'no'   b'no'        1.0   \n",
            "..         ...             ...     ...     ...     ...        ...   \n",
            "150      b'no'           b'no'  b'yes'  b'yes'  b'yes'        7.6   \n",
            "151     b'yes'           b'no'   b'no'   b'no'   b'no'        0.9   \n",
            "152     b'yes'           b'no'  b'yes'   b'no'   b'no'        0.8   \n",
            "153      b'no'          b'yes'  b'yes'   b'no'  b'yes'        1.5   \n",
            "154      b'no'          b'yes'  b'yes'  b'yes'   b'no'        1.2   \n",
            "\n",
            "     ALK_PHOSPHATE   SGOT  ALBUMIN  PROTIME HISTOLOGY    Class  \n",
            "0             85.0   18.0      4.0      NaN     b'no'  b'LIVE'  \n",
            "1            135.0   42.0      3.5      NaN     b'no'  b'LIVE'  \n",
            "2             96.0   32.0      4.0      NaN     b'no'  b'LIVE'  \n",
            "3             46.0   52.0      4.0     80.0     b'no'  b'LIVE'  \n",
            "4              NaN  200.0      4.0      NaN     b'no'  b'LIVE'  \n",
            "..             ...    ...      ...      ...       ...      ...  \n",
            "150            NaN  242.0      3.3     50.0    b'yes'   b'DIE'  \n",
            "151          126.0  142.0      4.3      NaN    b'yes'  b'LIVE'  \n",
            "152           75.0   20.0      4.1      NaN    b'yes'  b'LIVE'  \n",
            "153           81.0   19.0      4.1     48.0    b'yes'  b'LIVE'  \n",
            "154          100.0   19.0      3.1     42.0    b'yes'   b'DIE'  \n",
            "\n",
            "[155 rows x 20 columns]>\n"
          ]
        }
      ]
    },
    {
      "cell_type": "markdown",
      "source": [
        "Get number of samples and features and store"
      ],
      "metadata": {
        "id": "EhUPUJ3DTkf8"
      }
    },
    {
      "cell_type": "code",
      "source": [
        "no_samples = len(df.index)\n",
        "no_features = len(df.columns)\n",
        "print(no_samples)\n",
        "print(no_features)"
      ],
      "metadata": {
        "colab": {
          "base_uri": "https://localhost:8080/"
        },
        "id": "ZWK9pvR2SXDJ",
        "outputId": "c9d9ab64-0d5e-48b9-b326-67fbd9a28c0e"
      },
      "execution_count": 8,
      "outputs": [
        {
          "output_type": "stream",
          "name": "stdout",
          "text": [
            "155\n",
            "20\n"
          ]
        }
      ]
    },
    {
      "cell_type": "markdown",
      "source": [
        "Check which columns have missing values"
      ],
      "metadata": {
        "id": "NyE5GdypToFn"
      }
    },
    {
      "cell_type": "code",
      "source": [
        "columns_missing_values = return_columns_missing_values(df)\n",
        "print(columns_missing_values)"
      ],
      "metadata": {
        "colab": {
          "base_uri": "https://localhost:8080/"
        },
        "id": "tcERSELJTDwX",
        "outputId": "ac466d37-89d0-4bd7-9e3c-df56061f774d"
      },
      "execution_count": 13,
      "outputs": [
        {
          "output_type": "stream",
          "name": "stdout",
          "text": [
            "Index(['BILIRUBIN', 'ALK_PHOSPHATE', 'SGOT', 'ALBUMIN', 'PROTIME'], dtype='object')\n"
          ]
        }
      ]
    },
    {
      "cell_type": "markdown",
      "source": [
        "# Data Cleaning"
      ],
      "metadata": {
        "id": "H5WmCapuQl7j"
      }
    },
    {
      "cell_type": "markdown",
      "source": [
        "cleaning up df"
      ],
      "metadata": {
        "id": "qxDgqg5bMnD6"
      }
    },
    {
      "cell_type": "markdown",
      "source": [
        "Drop features with more than 40% of missing values"
      ],
      "metadata": {
        "id": "LfwMQ0K9Qu3q"
      }
    },
    {
      "cell_type": "code",
      "source": [
        "for column_name in columns_missing_values:\n",
        "  column_missing_values_percentage = missing_value_column_percentage(df, column_name)\n",
        "  if(column_missing_values_percentage > 40):\n",
        "    df = df.drop(column_name, axis=1)"
      ],
      "metadata": {
        "id": "DvknWSEhVSi1"
      },
      "execution_count": 38,
      "outputs": []
    },
    {
      "cell_type": "code",
      "source": [
        "# drop missing values\n",
        "df1 = df.dropna()\n",
        "# fill missing values with median\n",
        "df2 = df.fillna(df.median())"
      ],
      "metadata": {
        "colab": {
          "base_uri": "https://localhost:8080/"
        },
        "id": "X61sZVS0Lwtu",
        "outputId": "959d7e43-a4e2-4c08-a468-20f04ad71eb3"
      },
      "execution_count": 39,
      "outputs": [
        {
          "output_type": "stream",
          "name": "stderr",
          "text": [
            "/usr/local/lib/python3.7/dist-packages/ipykernel_launcher.py:4: FutureWarning: Dropping of nuisance columns in DataFrame reductions (with 'numeric_only=None') is deprecated; in a future version this will raise TypeError.  Select only valid columns before calling the reduction.\n",
            "  after removing the cwd from sys.path.\n"
          ]
        }
      ]
    },
    {
      "cell_type": "markdown",
      "source": [
        " Transform categorical features into integer-valued features, using progressive integer labels. You have to do it\n",
        "for both df1 and df2."
      ],
      "metadata": {
        "id": "eftlBlsCMtXL"
      }
    },
    {
      "cell_type": "code",
      "source": [
        "df1 = convert_object_datatypes_to_categorical(df1)\n",
        "df2 = convert_object_datatypes_to_categorical(df2)"
      ],
      "metadata": {
        "colab": {
          "base_uri": "https://localhost:8080/"
        },
        "id": "xs2dg3N4OHPs",
        "outputId": "95b9f940-d670-4030-a636-7da9379c5368"
      },
      "execution_count": 40,
      "outputs": [
        {
          "output_type": "stream",
          "name": "stderr",
          "text": [
            "/usr/local/lib/python3.7/dist-packages/ipykernel_launcher.py:4: SettingWithCopyWarning: \n",
            "A value is trying to be set on a copy of a slice from a DataFrame.\n",
            "Try using .loc[row_indexer,col_indexer] = value instead\n",
            "\n",
            "See the caveats in the documentation: https://pandas.pydata.org/pandas-docs/stable/user_guide/indexing.html#returning-a-view-versus-a-copy\n",
            "  after removing the cwd from sys.path.\n"
          ]
        }
      ]
    },
    {
      "cell_type": "code",
      "source": [
        "df1.dtypes"
      ],
      "metadata": {
        "colab": {
          "base_uri": "https://localhost:8080/"
        },
        "id": "Twt846OhOtSB",
        "outputId": "2c9a599c-efa2-44ed-d3f1-07e01e2fdbc2"
      },
      "execution_count": 41,
      "outputs": [
        {
          "output_type": "execute_result",
          "data": {
            "text/plain": [
              "AGE                 float64\n",
              "SEX                category\n",
              "STEROID            category\n",
              "ANTIVIRALS         category\n",
              "FATIGUE            category\n",
              "MALAISE            category\n",
              "ANOREXIA           category\n",
              "LIVER_BIG          category\n",
              "LIVER_FIRM         category\n",
              "SPLEEN_PALPABLE    category\n",
              "SPIDERS            category\n",
              "ASCITES            category\n",
              "VARICES            category\n",
              "BILIRUBIN           float64\n",
              "ALK_PHOSPHATE       float64\n",
              "SGOT                float64\n",
              "ALBUMIN             float64\n",
              "HISTOLOGY          category\n",
              "Class              category\n",
              "dtype: object"
            ]
          },
          "metadata": {},
          "execution_count": 41
        }
      ]
    },
    {
      "cell_type": "code",
      "source": [
        "df1 = convert_categorical_to_integer(df1)\n",
        "df2 = convert_categorical_to_integer(df2)"
      ],
      "metadata": {
        "colab": {
          "base_uri": "https://localhost:8080/"
        },
        "id": "zg9F9vsTMvaj",
        "outputId": "9ced5cb9-f7c6-47d8-bc3a-62addf31795e"
      },
      "execution_count": 42,
      "outputs": [
        {
          "output_type": "stream",
          "name": "stderr",
          "text": [
            "/usr/local/lib/python3.7/dist-packages/pandas/core/frame.py:3641: SettingWithCopyWarning: \n",
            "A value is trying to be set on a copy of a slice from a DataFrame.\n",
            "Try using .loc[row_indexer,col_indexer] = value instead\n",
            "\n",
            "See the caveats in the documentation: https://pandas.pydata.org/pandas-docs/stable/user_guide/indexing.html#returning-a-view-versus-a-copy\n",
            "  self[k1] = value[k2]\n"
          ]
        }
      ]
    },
    {
      "cell_type": "code",
      "source": [
        "print(df1.head)"
      ],
      "metadata": {
        "colab": {
          "base_uri": "https://localhost:8080/"
        },
        "id": "Z_3sOpbsQT84",
        "outputId": "e22fe2be-c950-48ad-9de2-ee5b3e56d559"
      },
      "execution_count": 43,
      "outputs": [
        {
          "output_type": "stream",
          "name": "stdout",
          "text": [
            "<bound method NDFrame.head of       AGE  SEX  STEROID  ANTIVIRALS  FATIGUE  MALAISE  ANOREXIA  LIVER_BIG  \\\n",
            "0    30.0    1        1           0        0        0         0          1   \n",
            "1    50.0    0        1           0        1        0         0          1   \n",
            "2    78.0    0        2           0        1        0         0          2   \n",
            "3    31.0    0        0           1        0        0         0          2   \n",
            "5    34.0    0        2           0        0        0         0          2   \n",
            "..    ...  ...      ...         ...      ...      ...       ...        ...   \n",
            "149  36.0    0        2           0        0        0         0          2   \n",
            "151  44.0    0        2           0        1        0         0          2   \n",
            "152  61.0    0        1           0        1        1         0          1   \n",
            "153  53.0    1        1           0        1        0         0          2   \n",
            "154  43.0    0        2           0        1        0         0          2   \n",
            "\n",
            "     LIVER_FIRM  SPLEEN_PALPABLE  SPIDERS  ASCITES  VARICES  BILIRUBIN  \\\n",
            "0             1                1        1        1        1        1.0   \n",
            "1             1                1        1        1        1        0.9   \n",
            "2             1                1        1        1        1        0.7   \n",
            "3             1                1        1        1        1        0.7   \n",
            "5             1                1        1        1        1        0.9   \n",
            "..          ...              ...      ...      ...      ...        ...   \n",
            "149           1                1        1        1        1        0.6   \n",
            "151           2                1        1        1        1        0.9   \n",
            "152           2                1        2        1        1        0.8   \n",
            "153           1                2        2        1        2        1.5   \n",
            "154           1                2        2        2        1        1.2   \n",
            "\n",
            "     ALK_PHOSPHATE   SGOT  ALBUMIN  HISTOLOGY  Class  \n",
            "0             85.0   18.0      4.0          0      1  \n",
            "1            135.0   42.0      3.5          0      1  \n",
            "2             96.0   32.0      4.0          0      1  \n",
            "3             46.0   52.0      4.0          0      1  \n",
            "5             95.0   28.0      4.0          0      1  \n",
            "..             ...    ...      ...        ...    ...  \n",
            "149          120.0   30.0      4.0          1      1  \n",
            "151          126.0  142.0      4.3          1      1  \n",
            "152           75.0   20.0      4.1          1      1  \n",
            "153           81.0   19.0      4.1          1      1  \n",
            "154          100.0   19.0      3.1          1      0  \n",
            "\n",
            "[120 rows x 19 columns]>\n"
          ]
        }
      ]
    }
  ]
}
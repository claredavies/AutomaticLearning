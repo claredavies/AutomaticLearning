{
  "nbformat": 4,
  "nbformat_minor": 0,
  "metadata": {
    "colab": {
      "provenance": [],
      "collapsed_sections": [
        "XCKoO_R-PrFw",
        "cOlj48ebSgFz",
        "zFyJ-USZmdKY"
      ],
      "authorship_tag": "ABX9TyPZbYv1y6t5X0w2IrxfkJPR",
      "include_colab_link": true
    },
    "kernelspec": {
      "name": "python3",
      "display_name": "Python 3"
    },
    "language_info": {
      "name": "python"
    }
  },
  "cells": [
    {
      "cell_type": "markdown",
      "metadata": {
        "id": "view-in-github",
        "colab_type": "text"
      },
      "source": [
        "<a href=\"https://colab.research.google.com/github/claredavies/AutomaticLearning/blob/main/Assignment1/SupervisedLearningAssignment.ipynb\" target=\"_parent\"><img src=\"https://colab.research.google.com/assets/colab-badge.svg\" alt=\"Open In Colab\"/></a>"
      ]
    },
    {
      "cell_type": "markdown",
      "source": [
        "# Libraries"
      ],
      "metadata": {
        "id": "qs0Y7WQrPmyx"
      }
    },
    {
      "cell_type": "code",
      "execution_count": 162,
      "metadata": {
        "id": "sQABlEwdPkd6"
      },
      "outputs": [],
      "source": [
        "import numpy as np\n",
        "from google.colab import files\n",
        "import pandas as pd\n",
        "from matplotlib import pyplot as plt\n",
        "from pandas.api.types import is_numeric_dtype\n",
        "from pandas.api.types import is_string_dtype\n",
        "import re\n",
        "import socket\n",
        "from scipy.stats import zscore\n",
        "import scipy.stats as stats\n",
        "from sklearn.decomposition import PCA\n",
        "from sklearn.model_selection import train_test_split\n",
        "from sklearn.preprocessing import StandardScaler\n",
        "from sklearn.linear_model import LogisticRegression\n",
        "from sklearn.svm import LinearSVC\n",
        "from sklearn.tree import DecisionTreeClassifier\n",
        "from sklearn import svm\n",
        "from sklearn.naive_bayes import GaussianNB\n",
        "from sklearn.model_selection import GridSearchCV"
      ]
    },
    {
      "cell_type": "code",
      "source": [
        "pd.set_option('max_rows', 99999)\n",
        "pd.set_option('max_colwidth', 400)\n",
        "pd.set_option('display.max_rows', None)"
      ],
      "metadata": {
        "id": "7rFpYMpdPwb9"
      },
      "execution_count": 2,
      "outputs": []
    },
    {
      "cell_type": "markdown",
      "source": [
        "# Read in Files"
      ],
      "metadata": {
        "id": "XCKoO_R-PrFw"
      }
    },
    {
      "cell_type": "code",
      "source": [
        "!git clone https://github.com/claredavies/AutomaticLearning"
      ],
      "metadata": {
        "colab": {
          "base_uri": "https://localhost:8080/"
        },
        "id": "4-51PmukPymh",
        "outputId": "adbd1be4-b7f8-4918-dabb-9509b25a87ee"
      },
      "execution_count": 211,
      "outputs": [
        {
          "output_type": "stream",
          "name": "stdout",
          "text": [
            "Cloning into 'AutomaticLearning'...\n",
            "remote: Enumerating objects: 54, done.\u001b[K\n",
            "remote: Counting objects: 100% (54/54), done.\u001b[K\n",
            "remote: Compressing objects: 100% (48/48), done.\u001b[K\n",
            "remote: Total 54 (delta 12), reused 0 (delta 0), pack-reused 0\u001b[K\n",
            "Unpacking objects: 100% (54/54), done.\n"
          ]
        }
      ]
    },
    {
      "cell_type": "code",
      "source": [
        "%ls"
      ],
      "metadata": {
        "colab": {
          "base_uri": "https://localhost:8080/"
        },
        "id": "wB7nJZTXQZcM",
        "outputId": "5536d4d1-d4df-49bd-eb31-bf38185ff1fa"
      },
      "execution_count": 212,
      "outputs": [
        {
          "output_type": "stream",
          "name": "stdout",
          "text": [
            "\u001b[0m\u001b[01;34mAutomaticLearning\u001b[0m/  ds_03.csv  im_t_03.txt  im_x_03.txt  im_y_03.txt  README.md\n"
          ]
        }
      ]
    },
    {
      "cell_type": "code",
      "source": [
        "%cd AutomaticLearning/Assignment1/Data/"
      ],
      "metadata": {
        "colab": {
          "base_uri": "https://localhost:8080/"
        },
        "id": "ppTOTlOnP1d7",
        "outputId": "817a6293-9bb6-47be-92c8-9a254213c39a"
      },
      "execution_count": 213,
      "outputs": [
        {
          "output_type": "stream",
          "name": "stdout",
          "text": [
            "/content/AutomaticLearning/Assignment1/Data/AutomaticLearning/Assignment1/Data/AutomaticLearning/Assignment1/Data/AutomaticLearning/Assignment1/Data/AutomaticLearning/Assignment1/Data/AutomaticLearning/Assignment1/Data/AutomaticLearning/Assignment1/Data/AutomaticLearning/Assignment1/Data/AutomaticLearning/Assignment1/Data/AutomaticLearning/Assignment1/Data\n"
          ]
        }
      ]
    },
    {
      "cell_type": "code",
      "source": [
        "df = pd.read_csv('ds_03.csv')\n",
        "df.head(3)"
      ],
      "metadata": {
        "colab": {
          "base_uri": "https://localhost:8080/",
          "height": 0
        },
        "id": "X_pybKWEQGyw",
        "outputId": "16f633b4-65ed-44a4-a3a9-b895d26c275d"
      },
      "execution_count": 214,
      "outputs": [
        {
          "output_type": "execute_result",
          "data": {
            "text/plain": [
              "     V01   V02    V03    V04    V05   V06   V07    V08   V09    V10  ...  \\\n",
              "0   8.82  3.50  10.88  41.70  10.17   NaN  4.18  16.42  3.75  12.87  ...   \n",
              "1  12.49  5.08  13.39  35.88   7.02  11.0  6.92  15.35  4.99   6.88  ...   \n",
              "2  14.07  3.99  10.87  27.80   9.82  10.6  4.10    NaN  3.34  11.65  ...   \n",
              "\n",
              "     V29   V30    V31   V32    V33    V34    V35    V36  class  target  \n",
              "0  29.30  16.2  10.21  3.84  38.06    NaN   8.47   7.68      1  0.3911  \n",
              "1  68.45   NaN  16.62  4.61    NaN  33.78   9.05   6.12      4  0.4179  \n",
              "2  50.44   NaN  16.84  3.16  39.22  29.64  10.30  11.22      4  0.4090  \n",
              "\n",
              "[3 rows x 38 columns]"
            ],
            "text/html": [
              "\n",
              "  <div id=\"df-83d58102-c10d-4c7b-8cc6-2c1ffaf474e4\">\n",
              "    <div class=\"colab-df-container\">\n",
              "      <div>\n",
              "<style scoped>\n",
              "    .dataframe tbody tr th:only-of-type {\n",
              "        vertical-align: middle;\n",
              "    }\n",
              "\n",
              "    .dataframe tbody tr th {\n",
              "        vertical-align: top;\n",
              "    }\n",
              "\n",
              "    .dataframe thead th {\n",
              "        text-align: right;\n",
              "    }\n",
              "</style>\n",
              "<table border=\"1\" class=\"dataframe\">\n",
              "  <thead>\n",
              "    <tr style=\"text-align: right;\">\n",
              "      <th></th>\n",
              "      <th>V01</th>\n",
              "      <th>V02</th>\n",
              "      <th>V03</th>\n",
              "      <th>V04</th>\n",
              "      <th>V05</th>\n",
              "      <th>V06</th>\n",
              "      <th>V07</th>\n",
              "      <th>V08</th>\n",
              "      <th>V09</th>\n",
              "      <th>V10</th>\n",
              "      <th>...</th>\n",
              "      <th>V29</th>\n",
              "      <th>V30</th>\n",
              "      <th>V31</th>\n",
              "      <th>V32</th>\n",
              "      <th>V33</th>\n",
              "      <th>V34</th>\n",
              "      <th>V35</th>\n",
              "      <th>V36</th>\n",
              "      <th>class</th>\n",
              "      <th>target</th>\n",
              "    </tr>\n",
              "  </thead>\n",
              "  <tbody>\n",
              "    <tr>\n",
              "      <th>0</th>\n",
              "      <td>8.82</td>\n",
              "      <td>3.50</td>\n",
              "      <td>10.88</td>\n",
              "      <td>41.70</td>\n",
              "      <td>10.17</td>\n",
              "      <td>NaN</td>\n",
              "      <td>4.18</td>\n",
              "      <td>16.42</td>\n",
              "      <td>3.75</td>\n",
              "      <td>12.87</td>\n",
              "      <td>...</td>\n",
              "      <td>29.30</td>\n",
              "      <td>16.2</td>\n",
              "      <td>10.21</td>\n",
              "      <td>3.84</td>\n",
              "      <td>38.06</td>\n",
              "      <td>NaN</td>\n",
              "      <td>8.47</td>\n",
              "      <td>7.68</td>\n",
              "      <td>1</td>\n",
              "      <td>0.3911</td>\n",
              "    </tr>\n",
              "    <tr>\n",
              "      <th>1</th>\n",
              "      <td>12.49</td>\n",
              "      <td>5.08</td>\n",
              "      <td>13.39</td>\n",
              "      <td>35.88</td>\n",
              "      <td>7.02</td>\n",
              "      <td>11.0</td>\n",
              "      <td>6.92</td>\n",
              "      <td>15.35</td>\n",
              "      <td>4.99</td>\n",
              "      <td>6.88</td>\n",
              "      <td>...</td>\n",
              "      <td>68.45</td>\n",
              "      <td>NaN</td>\n",
              "      <td>16.62</td>\n",
              "      <td>4.61</td>\n",
              "      <td>NaN</td>\n",
              "      <td>33.78</td>\n",
              "      <td>9.05</td>\n",
              "      <td>6.12</td>\n",
              "      <td>4</td>\n",
              "      <td>0.4179</td>\n",
              "    </tr>\n",
              "    <tr>\n",
              "      <th>2</th>\n",
              "      <td>14.07</td>\n",
              "      <td>3.99</td>\n",
              "      <td>10.87</td>\n",
              "      <td>27.80</td>\n",
              "      <td>9.82</td>\n",
              "      <td>10.6</td>\n",
              "      <td>4.10</td>\n",
              "      <td>NaN</td>\n",
              "      <td>3.34</td>\n",
              "      <td>11.65</td>\n",
              "      <td>...</td>\n",
              "      <td>50.44</td>\n",
              "      <td>NaN</td>\n",
              "      <td>16.84</td>\n",
              "      <td>3.16</td>\n",
              "      <td>39.22</td>\n",
              "      <td>29.64</td>\n",
              "      <td>10.30</td>\n",
              "      <td>11.22</td>\n",
              "      <td>4</td>\n",
              "      <td>0.4090</td>\n",
              "    </tr>\n",
              "  </tbody>\n",
              "</table>\n",
              "<p>3 rows × 38 columns</p>\n",
              "</div>\n",
              "      <button class=\"colab-df-convert\" onclick=\"convertToInteractive('df-83d58102-c10d-4c7b-8cc6-2c1ffaf474e4')\"\n",
              "              title=\"Convert this dataframe to an interactive table.\"\n",
              "              style=\"display:none;\">\n",
              "        \n",
              "  <svg xmlns=\"http://www.w3.org/2000/svg\" height=\"24px\"viewBox=\"0 0 24 24\"\n",
              "       width=\"24px\">\n",
              "    <path d=\"M0 0h24v24H0V0z\" fill=\"none\"/>\n",
              "    <path d=\"M18.56 5.44l.94 2.06.94-2.06 2.06-.94-2.06-.94-.94-2.06-.94 2.06-2.06.94zm-11 1L8.5 8.5l.94-2.06 2.06-.94-2.06-.94L8.5 2.5l-.94 2.06-2.06.94zm10 10l.94 2.06.94-2.06 2.06-.94-2.06-.94-.94-2.06-.94 2.06-2.06.94z\"/><path d=\"M17.41 7.96l-1.37-1.37c-.4-.4-.92-.59-1.43-.59-.52 0-1.04.2-1.43.59L10.3 9.45l-7.72 7.72c-.78.78-.78 2.05 0 2.83L4 21.41c.39.39.9.59 1.41.59.51 0 1.02-.2 1.41-.59l7.78-7.78 2.81-2.81c.8-.78.8-2.07 0-2.86zM5.41 20L4 18.59l7.72-7.72 1.47 1.35L5.41 20z\"/>\n",
              "  </svg>\n",
              "      </button>\n",
              "      \n",
              "  <style>\n",
              "    .colab-df-container {\n",
              "      display:flex;\n",
              "      flex-wrap:wrap;\n",
              "      gap: 12px;\n",
              "    }\n",
              "\n",
              "    .colab-df-convert {\n",
              "      background-color: #E8F0FE;\n",
              "      border: none;\n",
              "      border-radius: 50%;\n",
              "      cursor: pointer;\n",
              "      display: none;\n",
              "      fill: #1967D2;\n",
              "      height: 32px;\n",
              "      padding: 0 0 0 0;\n",
              "      width: 32px;\n",
              "    }\n",
              "\n",
              "    .colab-df-convert:hover {\n",
              "      background-color: #E2EBFA;\n",
              "      box-shadow: 0px 1px 2px rgba(60, 64, 67, 0.3), 0px 1px 3px 1px rgba(60, 64, 67, 0.15);\n",
              "      fill: #174EA6;\n",
              "    }\n",
              "\n",
              "    [theme=dark] .colab-df-convert {\n",
              "      background-color: #3B4455;\n",
              "      fill: #D2E3FC;\n",
              "    }\n",
              "\n",
              "    [theme=dark] .colab-df-convert:hover {\n",
              "      background-color: #434B5C;\n",
              "      box-shadow: 0px 1px 3px 1px rgba(0, 0, 0, 0.15);\n",
              "      filter: drop-shadow(0px 1px 2px rgba(0, 0, 0, 0.3));\n",
              "      fill: #FFFFFF;\n",
              "    }\n",
              "  </style>\n",
              "\n",
              "      <script>\n",
              "        const buttonEl =\n",
              "          document.querySelector('#df-83d58102-c10d-4c7b-8cc6-2c1ffaf474e4 button.colab-df-convert');\n",
              "        buttonEl.style.display =\n",
              "          google.colab.kernel.accessAllowed ? 'block' : 'none';\n",
              "\n",
              "        async function convertToInteractive(key) {\n",
              "          const element = document.querySelector('#df-83d58102-c10d-4c7b-8cc6-2c1ffaf474e4');\n",
              "          const dataTable =\n",
              "            await google.colab.kernel.invokeFunction('convertToInteractive',\n",
              "                                                     [key], {});\n",
              "          if (!dataTable) return;\n",
              "\n",
              "          const docLinkHtml = 'Like what you see? Visit the ' +\n",
              "            '<a target=\"_blank\" href=https://colab.research.google.com/notebooks/data_table.ipynb>data table notebook</a>'\n",
              "            + ' to learn more about interactive tables.';\n",
              "          element.innerHTML = '';\n",
              "          dataTable['output_type'] = 'display_data';\n",
              "          await google.colab.output.renderOutput(dataTable, element);\n",
              "          const docLink = document.createElement('div');\n",
              "          docLink.innerHTML = docLinkHtml;\n",
              "          element.appendChild(docLink);\n",
              "        }\n",
              "      </script>\n",
              "    </div>\n",
              "  </div>\n",
              "  "
            ]
          },
          "metadata": {},
          "execution_count": 214
        }
      ]
    },
    {
      "cell_type": "markdown",
      "source": [
        "# Functions"
      ],
      "metadata": {
        "id": "cOlj48ebSgFz"
      }
    },
    {
      "cell_type": "code",
      "source": [
        "def return_columns_missing_values(df):\n",
        "  return df.columns[df.isnull().any()]"
      ],
      "metadata": {
        "id": "5r5-UKobSj-S"
      },
      "execution_count": 215,
      "outputs": []
    },
    {
      "cell_type": "code",
      "source": [
        "def missing_value_column_percentage(dataframe, column_name):\n",
        "  percent_missing = dataframe.loc[:, column_name].isnull().sum() * 100 / len(dataframe)\n",
        "  return percent_missing"
      ],
      "metadata": {
        "id": "qOgdhv8CS1sL"
      },
      "execution_count": 216,
      "outputs": []
    },
    {
      "cell_type": "code",
      "source": [
        "def checkNumberMissingValuesInRowAboveThreshold(dataframe, threshold):\n",
        "  listMissingValuesAboveThresh = []\n",
        "  for i in range(len(dataframe.index)):\n",
        "    resultMissing = dataframe.iloc[i].isnull().sum()\n",
        "    index = dataframe.iloc[i].index\n",
        "    if resultMissing > threshold:\n",
        "      listMissingValuesAboveThresh.append(i)\n",
        "  # print(listMissingValuesAboveThresh)\n",
        "  df = dataframe.drop(listMissingValuesAboveThresh, inplace=False)\n",
        "  return df"
      ],
      "metadata": {
        "id": "RETlHvjCpKyl"
      },
      "execution_count": 217,
      "outputs": []
    },
    {
      "cell_type": "code",
      "source": [
        "def checkZScoreHigherThreshold(dataframe, threshold):\n",
        "  listOverThreshold = []\n",
        "  dfZValues = dataframe.apply(stats.zscore)\n",
        "  for col in dataframe.columns:\n",
        "    if col != \"class\":\n",
        "      found = dfZValues.index[dfZValues[col]>threshold].tolist()\n",
        "      listOverThreshold = listOverThreshold + found\n",
        "  listOverThreshold = list(dict.fromkeys(listOverThreshold))\n",
        "  # print(listOverThreshold)\n",
        "  df = dataframe.drop(listOverThreshold, inplace=False)\n",
        "  return df"
      ],
      "metadata": {
        "id": "173VSG9-wjJf"
      },
      "execution_count": 218,
      "outputs": []
    },
    {
      "cell_type": "markdown",
      "source": [
        "# T1.a"
      ],
      "metadata": {
        "id": "ioVVUj5lQnhe"
      }
    },
    {
      "cell_type": "markdown",
      "source": [
        "ai. samples with more than 4 missing feature values have to be dropped,"
      ],
      "metadata": {
        "id": "lLWJFgDERSeG"
      }
    },
    {
      "cell_type": "code",
      "source": [
        "dfClean = checkNumberMissingValuesInRowAboveThreshold(df, 4)"
      ],
      "metadata": {
        "id": "dNGo568YqDAC"
      },
      "execution_count": 219,
      "outputs": []
    },
    {
      "cell_type": "markdown",
      "source": [
        "aii. the remaining missing values have to be filled using the average value, and"
      ],
      "metadata": {
        "id": "Y9Jaqkt9RfDO"
      }
    },
    {
      "cell_type": "code",
      "source": [
        "dfClean = dfClean.fillna(dfClean.mean())"
      ],
      "metadata": {
        "id": "JBcRftM-Rt_L"
      },
      "execution_count": 220,
      "outputs": []
    },
    {
      "cell_type": "markdown",
      "source": [
        "aiii. samples with at least one feature value with a z-score higher than 3 (i.e. an outlier) have to be discarded."
      ],
      "metadata": {
        "id": "M65dKaKYRueP"
      }
    },
    {
      "cell_type": "code",
      "source": [
        "dfClean = checkZScoreHigherThreshold(dfClean, 3)"
      ],
      "metadata": {
        "id": "3T20WgVKRzGB"
      },
      "execution_count": 221,
      "outputs": []
    },
    {
      "cell_type": "markdown",
      "source": [
        "# T1.b"
      ],
      "metadata": {
        "id": "gM--MrW_mZNB"
      }
    },
    {
      "cell_type": "markdown",
      "source": [
        "It is suspected that not all 36 features are needed for a successful classification. To remove unnecessary\n",
        "dimensions and reduce the computation time, it is decided to keep only those features that account for\n",
        "up to 95% of the variance of the data."
      ],
      "metadata": {
        "id": "gveOp8IAmnan"
      }
    },
    {
      "cell_type": "code",
      "source": [
        "X = dfClean.drop(\"class\", axis=1)\n",
        "Y = dfClean['class']"
      ],
      "metadata": {
        "id": "dk_KtWXaJCMf"
      },
      "execution_count": 222,
      "outputs": []
    },
    {
      "cell_type": "code",
      "source": [
        "def findWantedKforPCA(dataframe, threshold):\n",
        "  for i in range(len(dataframe.columns)):\n",
        "    pca = PCA(n_components=i)\n",
        "    principalComponents1 = pca.fit_transform(x)\n",
        "    variance = sum(pca.explained_variance_ratio_)\n",
        "    if variance > threshold:\n",
        "      return i\n",
        "  print(\"unable to met threshold\")\n",
        "  return 0"
      ],
      "metadata": {
        "id": "FfzNIK9-Kb6L"
      },
      "execution_count": 223,
      "outputs": []
    },
    {
      "cell_type": "code",
      "source": [
        "n = findWantedKforPCA(X, 0.95)\n",
        "print(\"number of features needed for 95% variance:  \" + str(n))\n",
        "pca = PCA(n_components=n)\n",
        "principalComponents = pca.fit_transform(X)\n",
        "\n",
        "pca.explained_variance_ratio_\n",
        "print(sum(pca.explained_variance_ratio_))"
      ],
      "metadata": {
        "colab": {
          "base_uri": "https://localhost:8080/"
        },
        "id": "LkLBHxwsIq6M",
        "outputId": "2914badf-d123-4e5a-c07c-3207290005af"
      },
      "execution_count": 224,
      "outputs": [
        {
          "output_type": "stream",
          "name": "stdout",
          "text": [
            "number of features needed for 95% variance:  14\n",
            "0.9500589973709467\n"
          ]
        }
      ]
    },
    {
      "cell_type": "code",
      "source": [
        "Xpca = pd.DataFrame(data = principalComponents\n",
        "             , columns = ['principal component 1', 'principal component 2','principal component 3', 'principal component 4','principal component 5','principal component 6','principal component 7','principal component 8','principal component 9','principal component 10',\n",
        "                          'principal component 11','principal component 12','principal component 13', 'principal component 14'])\n",
        "\n",
        "Xpca.tail()"
      ],
      "metadata": {
        "colab": {
          "base_uri": "https://localhost:8080/",
          "height": 268
        },
        "id": "TE09xluVJuJt",
        "outputId": "adeccce0-d437-45d3-8ed7-06de010333df"
      },
      "execution_count": 225,
      "outputs": [
        {
          "output_type": "execute_result",
          "data": {
            "text/plain": [
              "     principal component 1  principal component 2  principal component 3  \\\n",
              "918              10.517648               8.849201             -10.580086   \n",
              "919               3.628870               0.804786             -12.244010   \n",
              "920             -38.292032              35.411712              -1.974346   \n",
              "921              41.345596             -17.492213              -5.649815   \n",
              "922             -19.948580              13.821654              -0.024228   \n",
              "\n",
              "     principal component 4  principal component 5  principal component 6  \\\n",
              "918              16.411439               7.663826             -15.744594   \n",
              "919               2.127585              14.357679              -1.606728   \n",
              "920              -8.600256              -1.253000              -4.488746   \n",
              "921               2.941931              -2.678740               3.914277   \n",
              "922             -13.221582               0.761577               8.282948   \n",
              "\n",
              "     principal component 7  principal component 8  principal component 9  \\\n",
              "918               8.478717              -9.244069              -0.783213   \n",
              "919               8.616711              13.178789              -1.285939   \n",
              "920              -7.452547               7.342710               4.758288   \n",
              "921             -11.742451               0.371267             -16.114407   \n",
              "922               2.931496              -9.340231              16.107987   \n",
              "\n",
              "     principal component 10  principal component 11  principal component 12  \\\n",
              "918               -0.249702                2.251770               -4.002942   \n",
              "919               -1.847373                7.393582               -1.256279   \n",
              "920               -9.356935                1.554233                3.106531   \n",
              "921              -13.910374               -3.600508               -1.383038   \n",
              "922                5.192703               -2.260385                4.466134   \n",
              "\n",
              "     principal component 13  principal component 14  \n",
              "918                5.772025                1.415180  \n",
              "919                0.890905               -2.310255  \n",
              "920               -2.925201               -0.098176  \n",
              "921               -4.089717                0.301808  \n",
              "922                0.201541                0.346396  "
            ],
            "text/html": [
              "\n",
              "  <div id=\"df-a467e56c-e40f-4b1e-88bf-89f89871b5ad\">\n",
              "    <div class=\"colab-df-container\">\n",
              "      <div>\n",
              "<style scoped>\n",
              "    .dataframe tbody tr th:only-of-type {\n",
              "        vertical-align: middle;\n",
              "    }\n",
              "\n",
              "    .dataframe tbody tr th {\n",
              "        vertical-align: top;\n",
              "    }\n",
              "\n",
              "    .dataframe thead th {\n",
              "        text-align: right;\n",
              "    }\n",
              "</style>\n",
              "<table border=\"1\" class=\"dataframe\">\n",
              "  <thead>\n",
              "    <tr style=\"text-align: right;\">\n",
              "      <th></th>\n",
              "      <th>principal component 1</th>\n",
              "      <th>principal component 2</th>\n",
              "      <th>principal component 3</th>\n",
              "      <th>principal component 4</th>\n",
              "      <th>principal component 5</th>\n",
              "      <th>principal component 6</th>\n",
              "      <th>principal component 7</th>\n",
              "      <th>principal component 8</th>\n",
              "      <th>principal component 9</th>\n",
              "      <th>principal component 10</th>\n",
              "      <th>principal component 11</th>\n",
              "      <th>principal component 12</th>\n",
              "      <th>principal component 13</th>\n",
              "      <th>principal component 14</th>\n",
              "    </tr>\n",
              "  </thead>\n",
              "  <tbody>\n",
              "    <tr>\n",
              "      <th>918</th>\n",
              "      <td>10.517648</td>\n",
              "      <td>8.849201</td>\n",
              "      <td>-10.580086</td>\n",
              "      <td>16.411439</td>\n",
              "      <td>7.663826</td>\n",
              "      <td>-15.744594</td>\n",
              "      <td>8.478717</td>\n",
              "      <td>-9.244069</td>\n",
              "      <td>-0.783213</td>\n",
              "      <td>-0.249702</td>\n",
              "      <td>2.251770</td>\n",
              "      <td>-4.002942</td>\n",
              "      <td>5.772025</td>\n",
              "      <td>1.415180</td>\n",
              "    </tr>\n",
              "    <tr>\n",
              "      <th>919</th>\n",
              "      <td>3.628870</td>\n",
              "      <td>0.804786</td>\n",
              "      <td>-12.244010</td>\n",
              "      <td>2.127585</td>\n",
              "      <td>14.357679</td>\n",
              "      <td>-1.606728</td>\n",
              "      <td>8.616711</td>\n",
              "      <td>13.178789</td>\n",
              "      <td>-1.285939</td>\n",
              "      <td>-1.847373</td>\n",
              "      <td>7.393582</td>\n",
              "      <td>-1.256279</td>\n",
              "      <td>0.890905</td>\n",
              "      <td>-2.310255</td>\n",
              "    </tr>\n",
              "    <tr>\n",
              "      <th>920</th>\n",
              "      <td>-38.292032</td>\n",
              "      <td>35.411712</td>\n",
              "      <td>-1.974346</td>\n",
              "      <td>-8.600256</td>\n",
              "      <td>-1.253000</td>\n",
              "      <td>-4.488746</td>\n",
              "      <td>-7.452547</td>\n",
              "      <td>7.342710</td>\n",
              "      <td>4.758288</td>\n",
              "      <td>-9.356935</td>\n",
              "      <td>1.554233</td>\n",
              "      <td>3.106531</td>\n",
              "      <td>-2.925201</td>\n",
              "      <td>-0.098176</td>\n",
              "    </tr>\n",
              "    <tr>\n",
              "      <th>921</th>\n",
              "      <td>41.345596</td>\n",
              "      <td>-17.492213</td>\n",
              "      <td>-5.649815</td>\n",
              "      <td>2.941931</td>\n",
              "      <td>-2.678740</td>\n",
              "      <td>3.914277</td>\n",
              "      <td>-11.742451</td>\n",
              "      <td>0.371267</td>\n",
              "      <td>-16.114407</td>\n",
              "      <td>-13.910374</td>\n",
              "      <td>-3.600508</td>\n",
              "      <td>-1.383038</td>\n",
              "      <td>-4.089717</td>\n",
              "      <td>0.301808</td>\n",
              "    </tr>\n",
              "    <tr>\n",
              "      <th>922</th>\n",
              "      <td>-19.948580</td>\n",
              "      <td>13.821654</td>\n",
              "      <td>-0.024228</td>\n",
              "      <td>-13.221582</td>\n",
              "      <td>0.761577</td>\n",
              "      <td>8.282948</td>\n",
              "      <td>2.931496</td>\n",
              "      <td>-9.340231</td>\n",
              "      <td>16.107987</td>\n",
              "      <td>5.192703</td>\n",
              "      <td>-2.260385</td>\n",
              "      <td>4.466134</td>\n",
              "      <td>0.201541</td>\n",
              "      <td>0.346396</td>\n",
              "    </tr>\n",
              "  </tbody>\n",
              "</table>\n",
              "</div>\n",
              "      <button class=\"colab-df-convert\" onclick=\"convertToInteractive('df-a467e56c-e40f-4b1e-88bf-89f89871b5ad')\"\n",
              "              title=\"Convert this dataframe to an interactive table.\"\n",
              "              style=\"display:none;\">\n",
              "        \n",
              "  <svg xmlns=\"http://www.w3.org/2000/svg\" height=\"24px\"viewBox=\"0 0 24 24\"\n",
              "       width=\"24px\">\n",
              "    <path d=\"M0 0h24v24H0V0z\" fill=\"none\"/>\n",
              "    <path d=\"M18.56 5.44l.94 2.06.94-2.06 2.06-.94-2.06-.94-.94-2.06-.94 2.06-2.06.94zm-11 1L8.5 8.5l.94-2.06 2.06-.94-2.06-.94L8.5 2.5l-.94 2.06-2.06.94zm10 10l.94 2.06.94-2.06 2.06-.94-2.06-.94-.94-2.06-.94 2.06-2.06.94z\"/><path d=\"M17.41 7.96l-1.37-1.37c-.4-.4-.92-.59-1.43-.59-.52 0-1.04.2-1.43.59L10.3 9.45l-7.72 7.72c-.78.78-.78 2.05 0 2.83L4 21.41c.39.39.9.59 1.41.59.51 0 1.02-.2 1.41-.59l7.78-7.78 2.81-2.81c.8-.78.8-2.07 0-2.86zM5.41 20L4 18.59l7.72-7.72 1.47 1.35L5.41 20z\"/>\n",
              "  </svg>\n",
              "      </button>\n",
              "      \n",
              "  <style>\n",
              "    .colab-df-container {\n",
              "      display:flex;\n",
              "      flex-wrap:wrap;\n",
              "      gap: 12px;\n",
              "    }\n",
              "\n",
              "    .colab-df-convert {\n",
              "      background-color: #E8F0FE;\n",
              "      border: none;\n",
              "      border-radius: 50%;\n",
              "      cursor: pointer;\n",
              "      display: none;\n",
              "      fill: #1967D2;\n",
              "      height: 32px;\n",
              "      padding: 0 0 0 0;\n",
              "      width: 32px;\n",
              "    }\n",
              "\n",
              "    .colab-df-convert:hover {\n",
              "      background-color: #E2EBFA;\n",
              "      box-shadow: 0px 1px 2px rgba(60, 64, 67, 0.3), 0px 1px 3px 1px rgba(60, 64, 67, 0.15);\n",
              "      fill: #174EA6;\n",
              "    }\n",
              "\n",
              "    [theme=dark] .colab-df-convert {\n",
              "      background-color: #3B4455;\n",
              "      fill: #D2E3FC;\n",
              "    }\n",
              "\n",
              "    [theme=dark] .colab-df-convert:hover {\n",
              "      background-color: #434B5C;\n",
              "      box-shadow: 0px 1px 3px 1px rgba(0, 0, 0, 0.15);\n",
              "      filter: drop-shadow(0px 1px 2px rgba(0, 0, 0, 0.3));\n",
              "      fill: #FFFFFF;\n",
              "    }\n",
              "  </style>\n",
              "\n",
              "      <script>\n",
              "        const buttonEl =\n",
              "          document.querySelector('#df-a467e56c-e40f-4b1e-88bf-89f89871b5ad button.colab-df-convert');\n",
              "        buttonEl.style.display =\n",
              "          google.colab.kernel.accessAllowed ? 'block' : 'none';\n",
              "\n",
              "        async function convertToInteractive(key) {\n",
              "          const element = document.querySelector('#df-a467e56c-e40f-4b1e-88bf-89f89871b5ad');\n",
              "          const dataTable =\n",
              "            await google.colab.kernel.invokeFunction('convertToInteractive',\n",
              "                                                     [key], {});\n",
              "          if (!dataTable) return;\n",
              "\n",
              "          const docLinkHtml = 'Like what you see? Visit the ' +\n",
              "            '<a target=\"_blank\" href=https://colab.research.google.com/notebooks/data_table.ipynb>data table notebook</a>'\n",
              "            + ' to learn more about interactive tables.';\n",
              "          element.innerHTML = '';\n",
              "          dataTable['output_type'] = 'display_data';\n",
              "          await google.colab.output.renderOutput(dataTable, element);\n",
              "          const docLink = document.createElement('div');\n",
              "          docLink.innerHTML = docLinkHtml;\n",
              "          element.appendChild(docLink);\n",
              "        }\n",
              "      </script>\n",
              "    </div>\n",
              "  </div>\n",
              "  "
            ]
          },
          "metadata": {},
          "execution_count": 225
        }
      ]
    },
    {
      "cell_type": "markdown",
      "source": [
        "# T1.c"
      ],
      "metadata": {
        "id": "zFyJ-USZmdKY"
      }
    },
    {
      "cell_type": "markdown",
      "source": [
        "Normalize the data using mu-sigma standardization."
      ],
      "metadata": {
        "id": "GMmxWbrcmqez"
      }
    },
    {
      "cell_type": "code",
      "source": [
        "standardizer = StandardScaler()\n",
        "X = standardizer.fit_transform(Xpca)"
      ],
      "metadata": {
        "id": "YMlcOAWoJAbT"
      },
      "execution_count": 226,
      "outputs": []
    },
    {
      "cell_type": "code",
      "source": [
        "X = pd.DataFrame(data = X\n",
        "             , columns = ['principal component 1', 'principal component 2','principal component 3', 'principal component 4','principal component 5','principal component 6','principal component 7','principal component 8','principal component 9','principal component 10',\n",
        "                          'principal component 11','principal component 12','principal component 13', 'principal component 14'])"
      ],
      "metadata": {
        "id": "_IixOX4xOqHx"
      },
      "execution_count": 227,
      "outputs": []
    },
    {
      "cell_type": "code",
      "source": [
        "print(X.head())"
      ],
      "metadata": {
        "colab": {
          "base_uri": "https://localhost:8080/"
        },
        "id": "U6EHs2uIOHlW",
        "outputId": "fb6c4229-c620-4c35-be44-855fd642c567"
      },
      "execution_count": 228,
      "outputs": [
        {
          "output_type": "stream",
          "name": "stdout",
          "text": [
            "   principal component 1  principal component 2  principal component 3  \\\n",
            "0               0.313434               0.841294              -0.472641   \n",
            "1              -0.315836              -0.262807               1.914726   \n",
            "2              -0.158084              -0.351200               0.467123   \n",
            "3               0.569296              -0.257306               0.758210   \n",
            "4              -0.866370               0.140033               0.502157   \n",
            "\n",
            "   principal component 4  principal component 5  principal component 6  \\\n",
            "0              -0.230768               0.447245              -0.688859   \n",
            "1               0.610557               0.281744              -0.229400   \n",
            "2              -0.422589              -0.566503              -0.164481   \n",
            "3               0.328537               1.860091               0.567699   \n",
            "4               0.998485              -1.935781              -1.256409   \n",
            "\n",
            "   principal component 7  principal component 8  principal component 9  \\\n",
            "0              -0.942207              -0.512639              -1.073142   \n",
            "1               0.712168               0.316975               1.022504   \n",
            "2              -0.125679              -0.140442               0.128288   \n",
            "3              -2.205458               0.314448              -0.702891   \n",
            "4               0.282661               0.443857              -0.867451   \n",
            "\n",
            "   principal component 10  principal component 11  principal component 12  \\\n",
            "0                0.772998                0.069934                0.507475   \n",
            "1               -0.388594                0.724022                0.354401   \n",
            "2               -0.348256               -0.179029               -1.089191   \n",
            "3                0.915033                0.685670               -0.721066   \n",
            "4                0.367220                0.154212               -0.868328   \n",
            "\n",
            "   principal component 13  principal component 14  \n",
            "0               -0.885466               -1.138620  \n",
            "1                0.224086                0.227493  \n",
            "2                0.394247                0.330660  \n",
            "3                0.566153                1.239927  \n",
            "4               -0.447227                1.287439  \n"
          ]
        }
      ]
    },
    {
      "cell_type": "markdown",
      "source": [
        "# T1.d"
      ],
      "metadata": {
        "id": "u77aRhF2mwTh"
      }
    },
    {
      "cell_type": "markdown",
      "source": [
        "Finally, calculate the imbalance ratio (IR) of the dataset"
      ],
      "metadata": {
        "id": "xTah0JQjPehA"
      }
    },
    {
      "cell_type": "code",
      "source": [
        "result = Y.value_counts()"
      ],
      "metadata": {
        "id": "lNUX0Pd1PcNW"
      },
      "execution_count": 229,
      "outputs": []
    },
    {
      "cell_type": "code",
      "source": [
        "print(result)"
      ],
      "metadata": {
        "colab": {
          "base_uri": "https://localhost:8080/"
        },
        "id": "Pn7utHeQQVNJ",
        "outputId": "dc43a9d2-28d3-411a-9cb5-84419b5a40aa"
      },
      "execution_count": 230,
      "outputs": [
        {
          "output_type": "stream",
          "name": "stdout",
          "text": [
            "4    240\n",
            "1    215\n",
            "0    161\n",
            "5    152\n",
            "3     80\n",
            "2     75\n",
            "Name: class, dtype: int64\n"
          ]
        }
      ]
    },
    {
      "cell_type": "code",
      "source": [
        "IR = max(result)/min(result)\n",
        "print(\"Imbalance ratio:  \" + str(IR))"
      ],
      "metadata": {
        "colab": {
          "base_uri": "https://localhost:8080/"
        },
        "id": "pOT1fdk3QnWg",
        "outputId": "58ad3c4d-78b8-47d7-eca4-71ea755d17a3"
      },
      "execution_count": 231,
      "outputs": [
        {
          "output_type": "stream",
          "name": "stdout",
          "text": [
            "Imbalance ratio:  3.2\n"
          ]
        }
      ]
    },
    {
      "cell_type": "markdown",
      "source": [
        "# T2.a"
      ],
      "metadata": {
        "id": "utOKx78ORUTX"
      }
    },
    {
      "cell_type": "code",
      "source": [],
      "metadata": {
        "id": "IK4bx-oYRYME"
      },
      "execution_count": null,
      "outputs": []
    },
    {
      "cell_type": "markdown",
      "source": [
        "# T2.b"
      ],
      "metadata": {
        "id": "jtAp60nlRY22"
      }
    },
    {
      "cell_type": "markdown",
      "source": [
        "It is believed that maybe a single classifier is not going to be able to solve the problem satisfactorily and hence\n",
        "it is decided to consider several models:\n",
        "1) Gaussian Naive Bayes (GNB)\n",
        "2) Logistic Regression (LR)\n",
        "3) Decision Tree (DT)\n",
        "4) Support Vector Machine (SVM)"
      ],
      "metadata": {
        "id": "FKcTa1mLRzsy"
      }
    },
    {
      "cell_type": "markdown",
      "source": [
        "![image.png](data:image/png;base64,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)"
      ],
      "metadata": {
        "id": "rPzmAA__SHbj"
      }
    },
    {
      "cell_type": "code",
      "source": [
        "X_train, X_test, y_train, y_test = train_test_split(X,Y,test_size = 0.2, random_state =0)"
      ],
      "metadata": {
        "id": "BqSXVUt7T9jv"
      },
      "execution_count": 159,
      "outputs": []
    },
    {
      "cell_type": "markdown",
      "source": [
        "LR"
      ],
      "metadata": {
        "id": "zIM_mxPUWagh"
      }
    },
    {
      "cell_type": "code",
      "source": [
        "from sklearn import linear_model\n",
        "logistic = linear_model.LogisticRegression()\n",
        "C = np.logspace(0, 4, 10)\n",
        "penalty = [\"none\", \"l2\"]\n",
        "hyperparameters = dict(C=C, penalty=penalty)"
      ],
      "metadata": {
        "id": "pXxFNptQWcB1"
      },
      "execution_count": 232,
      "outputs": []
    },
    {
      "cell_type": "code",
      "source": [
        "print(C)"
      ],
      "metadata": {
        "colab": {
          "base_uri": "https://localhost:8080/"
        },
        "id": "ByJ8deNFr5UM",
        "outputId": "5f7fc2d2-8f4b-4909-f41a-48420169a4c3"
      },
      "execution_count": 235,
      "outputs": [
        {
          "output_type": "stream",
          "name": "stdout",
          "text": [
            "[1.00000000e+00 2.78255940e+00 7.74263683e+00 2.15443469e+01\n",
            " 5.99484250e+01 1.66810054e+02 4.64158883e+02 1.29154967e+03\n",
            " 3.59381366e+03 1.00000000e+04]\n"
          ]
        }
      ]
    },
    {
      "cell_type": "code",
      "source": [
        "clf = GridSearchCV(logistic, hyperparameters, cv=5, verbose=0)\n",
        "best_model = clf.fit(X, Y)"
      ],
      "metadata": {
        "colab": {
          "base_uri": "https://localhost:8080/"
        },
        "id": "X7DHgoYrpmv4",
        "outputId": "211d7592-73b1-44ea-8420-35f127e1bcbe"
      },
      "execution_count": 233,
      "outputs": [
        {
          "output_type": "stream",
          "name": "stderr",
          "text": [
            "/usr/local/lib/python3.8/dist-packages/sklearn/linear_model/_logistic.py:1483: UserWarning: Setting penalty='none' will ignore the C and l1_ratio parameters\n",
            "  warnings.warn(\n",
            "/usr/local/lib/python3.8/dist-packages/sklearn/linear_model/_logistic.py:1483: UserWarning: Setting penalty='none' will ignore the C and l1_ratio parameters\n",
            "  warnings.warn(\n",
            "/usr/local/lib/python3.8/dist-packages/sklearn/linear_model/_logistic.py:1483: UserWarning: Setting penalty='none' will ignore the C and l1_ratio parameters\n",
            "  warnings.warn(\n",
            "/usr/local/lib/python3.8/dist-packages/sklearn/linear_model/_logistic.py:1483: UserWarning: Setting penalty='none' will ignore the C and l1_ratio parameters\n",
            "  warnings.warn(\n",
            "/usr/local/lib/python3.8/dist-packages/sklearn/linear_model/_logistic.py:1483: UserWarning: Setting penalty='none' will ignore the C and l1_ratio parameters\n",
            "  warnings.warn(\n",
            "/usr/local/lib/python3.8/dist-packages/sklearn/linear_model/_logistic.py:1483: UserWarning: Setting penalty='none' will ignore the C and l1_ratio parameters\n",
            "  warnings.warn(\n",
            "/usr/local/lib/python3.8/dist-packages/sklearn/linear_model/_logistic.py:1483: UserWarning: Setting penalty='none' will ignore the C and l1_ratio parameters\n",
            "  warnings.warn(\n",
            "/usr/local/lib/python3.8/dist-packages/sklearn/linear_model/_logistic.py:1483: UserWarning: Setting penalty='none' will ignore the C and l1_ratio parameters\n",
            "  warnings.warn(\n",
            "/usr/local/lib/python3.8/dist-packages/sklearn/linear_model/_logistic.py:1483: UserWarning: Setting penalty='none' will ignore the C and l1_ratio parameters\n",
            "  warnings.warn(\n",
            "/usr/local/lib/python3.8/dist-packages/sklearn/linear_model/_logistic.py:1483: UserWarning: Setting penalty='none' will ignore the C and l1_ratio parameters\n",
            "  warnings.warn(\n",
            "/usr/local/lib/python3.8/dist-packages/sklearn/linear_model/_logistic.py:1483: UserWarning: Setting penalty='none' will ignore the C and l1_ratio parameters\n",
            "  warnings.warn(\n",
            "/usr/local/lib/python3.8/dist-packages/sklearn/linear_model/_logistic.py:1483: UserWarning: Setting penalty='none' will ignore the C and l1_ratio parameters\n",
            "  warnings.warn(\n",
            "/usr/local/lib/python3.8/dist-packages/sklearn/linear_model/_logistic.py:1483: UserWarning: Setting penalty='none' will ignore the C and l1_ratio parameters\n",
            "  warnings.warn(\n",
            "/usr/local/lib/python3.8/dist-packages/sklearn/linear_model/_logistic.py:1483: UserWarning: Setting penalty='none' will ignore the C and l1_ratio parameters\n",
            "  warnings.warn(\n",
            "/usr/local/lib/python3.8/dist-packages/sklearn/linear_model/_logistic.py:1483: UserWarning: Setting penalty='none' will ignore the C and l1_ratio parameters\n",
            "  warnings.warn(\n",
            "/usr/local/lib/python3.8/dist-packages/sklearn/linear_model/_logistic.py:1483: UserWarning: Setting penalty='none' will ignore the C and l1_ratio parameters\n",
            "  warnings.warn(\n",
            "/usr/local/lib/python3.8/dist-packages/sklearn/linear_model/_logistic.py:1483: UserWarning: Setting penalty='none' will ignore the C and l1_ratio parameters\n",
            "  warnings.warn(\n",
            "/usr/local/lib/python3.8/dist-packages/sklearn/linear_model/_logistic.py:1483: UserWarning: Setting penalty='none' will ignore the C and l1_ratio parameters\n",
            "  warnings.warn(\n",
            "/usr/local/lib/python3.8/dist-packages/sklearn/linear_model/_logistic.py:1483: UserWarning: Setting penalty='none' will ignore the C and l1_ratio parameters\n",
            "  warnings.warn(\n",
            "/usr/local/lib/python3.8/dist-packages/sklearn/linear_model/_logistic.py:1483: UserWarning: Setting penalty='none' will ignore the C and l1_ratio parameters\n",
            "  warnings.warn(\n",
            "/usr/local/lib/python3.8/dist-packages/sklearn/linear_model/_logistic.py:1483: UserWarning: Setting penalty='none' will ignore the C and l1_ratio parameters\n",
            "  warnings.warn(\n",
            "/usr/local/lib/python3.8/dist-packages/sklearn/linear_model/_logistic.py:1483: UserWarning: Setting penalty='none' will ignore the C and l1_ratio parameters\n",
            "  warnings.warn(\n",
            "/usr/local/lib/python3.8/dist-packages/sklearn/linear_model/_logistic.py:1483: UserWarning: Setting penalty='none' will ignore the C and l1_ratio parameters\n",
            "  warnings.warn(\n",
            "/usr/local/lib/python3.8/dist-packages/sklearn/linear_model/_logistic.py:1483: UserWarning: Setting penalty='none' will ignore the C and l1_ratio parameters\n",
            "  warnings.warn(\n",
            "/usr/local/lib/python3.8/dist-packages/sklearn/linear_model/_logistic.py:1483: UserWarning: Setting penalty='none' will ignore the C and l1_ratio parameters\n",
            "  warnings.warn(\n",
            "/usr/local/lib/python3.8/dist-packages/sklearn/linear_model/_logistic.py:1483: UserWarning: Setting penalty='none' will ignore the C and l1_ratio parameters\n",
            "  warnings.warn(\n",
            "/usr/local/lib/python3.8/dist-packages/sklearn/linear_model/_logistic.py:1483: UserWarning: Setting penalty='none' will ignore the C and l1_ratio parameters\n",
            "  warnings.warn(\n",
            "/usr/local/lib/python3.8/dist-packages/sklearn/linear_model/_logistic.py:1483: UserWarning: Setting penalty='none' will ignore the C and l1_ratio parameters\n",
            "  warnings.warn(\n",
            "/usr/local/lib/python3.8/dist-packages/sklearn/linear_model/_logistic.py:1483: UserWarning: Setting penalty='none' will ignore the C and l1_ratio parameters\n",
            "  warnings.warn(\n",
            "/usr/local/lib/python3.8/dist-packages/sklearn/linear_model/_logistic.py:1483: UserWarning: Setting penalty='none' will ignore the C and l1_ratio parameters\n",
            "  warnings.warn(\n",
            "/usr/local/lib/python3.8/dist-packages/sklearn/linear_model/_logistic.py:1483: UserWarning: Setting penalty='none' will ignore the C and l1_ratio parameters\n",
            "  warnings.warn(\n",
            "/usr/local/lib/python3.8/dist-packages/sklearn/linear_model/_logistic.py:1483: UserWarning: Setting penalty='none' will ignore the C and l1_ratio parameters\n",
            "  warnings.warn(\n",
            "/usr/local/lib/python3.8/dist-packages/sklearn/linear_model/_logistic.py:1483: UserWarning: Setting penalty='none' will ignore the C and l1_ratio parameters\n",
            "  warnings.warn(\n",
            "/usr/local/lib/python3.8/dist-packages/sklearn/linear_model/_logistic.py:1483: UserWarning: Setting penalty='none' will ignore the C and l1_ratio parameters\n",
            "  warnings.warn(\n",
            "/usr/local/lib/python3.8/dist-packages/sklearn/linear_model/_logistic.py:1483: UserWarning: Setting penalty='none' will ignore the C and l1_ratio parameters\n",
            "  warnings.warn(\n",
            "/usr/local/lib/python3.8/dist-packages/sklearn/linear_model/_logistic.py:1483: UserWarning: Setting penalty='none' will ignore the C and l1_ratio parameters\n",
            "  warnings.warn(\n",
            "/usr/local/lib/python3.8/dist-packages/sklearn/linear_model/_logistic.py:1483: UserWarning: Setting penalty='none' will ignore the C and l1_ratio parameters\n",
            "  warnings.warn(\n",
            "/usr/local/lib/python3.8/dist-packages/sklearn/linear_model/_logistic.py:1483: UserWarning: Setting penalty='none' will ignore the C and l1_ratio parameters\n",
            "  warnings.warn(\n",
            "/usr/local/lib/python3.8/dist-packages/sklearn/linear_model/_logistic.py:1483: UserWarning: Setting penalty='none' will ignore the C and l1_ratio parameters\n",
            "  warnings.warn(\n",
            "/usr/local/lib/python3.8/dist-packages/sklearn/linear_model/_logistic.py:1483: UserWarning: Setting penalty='none' will ignore the C and l1_ratio parameters\n",
            "  warnings.warn(\n",
            "/usr/local/lib/python3.8/dist-packages/sklearn/linear_model/_logistic.py:1483: UserWarning: Setting penalty='none' will ignore the C and l1_ratio parameters\n",
            "  warnings.warn(\n",
            "/usr/local/lib/python3.8/dist-packages/sklearn/linear_model/_logistic.py:1483: UserWarning: Setting penalty='none' will ignore the C and l1_ratio parameters\n",
            "  warnings.warn(\n",
            "/usr/local/lib/python3.8/dist-packages/sklearn/linear_model/_logistic.py:1483: UserWarning: Setting penalty='none' will ignore the C and l1_ratio parameters\n",
            "  warnings.warn(\n",
            "/usr/local/lib/python3.8/dist-packages/sklearn/linear_model/_logistic.py:1483: UserWarning: Setting penalty='none' will ignore the C and l1_ratio parameters\n",
            "  warnings.warn(\n",
            "/usr/local/lib/python3.8/dist-packages/sklearn/linear_model/_logistic.py:1483: UserWarning: Setting penalty='none' will ignore the C and l1_ratio parameters\n",
            "  warnings.warn(\n"
          ]
        }
      ]
    },
    {
      "cell_type": "code",
      "source": [
        "print(\"Best Penalty:\", best_model.best_estimator_.get_params()[\"penalty\"])\n",
        "print(\"Best C:\", best_model.best_estimator_.get_params()[\"C\"])"
      ],
      "metadata": {
        "colab": {
          "base_uri": "https://localhost:8080/"
        },
        "id": "yc73rWBqpoAL",
        "outputId": "7dc0aae0-a9c1-4f42-ec0c-d45f03bfc779"
      },
      "execution_count": 234,
      "outputs": [
        {
          "output_type": "stream",
          "name": "stdout",
          "text": [
            "Best Penalty: l2\n",
            "Best C: 1.0\n"
          ]
        }
      ]
    },
    {
      "cell_type": "code",
      "source": [
        "models = {}\n",
        "\n",
        "models['GNB'] = GaussianNB()\n",
        "models['LR'] = LogisticRegression(C = 1,solver ='sag')\n",
        "models['DT'] = DecisionTreeClassifier()\n",
        "models['SVM'] = svm.SVC(kernel='linear')"
      ],
      "metadata": {
        "id": "10uay7ItTj_f"
      },
      "execution_count": 160,
      "outputs": []
    },
    {
      "cell_type": "code",
      "source": [
        "from sklearn.metrics import accuracy_score, precision_score, recall_score\n",
        "\n",
        "accuracy, precision, recall, predictions = {}, {}, {}, {}\n",
        "\n",
        "for key in models.keys():\n",
        "    \n",
        "    # Fit the classifier model\n",
        "    models[key].fit(X_train, y_train)\n",
        "    # Prediction \n",
        "    predictions[key] = models[key].predict(X_test)\n",
        "    \n",
        "    # Calculate Accuracy, Precision and Recall Metrics\n",
        "    accuracy[key] = accuracy_score(predictions[key], y_test)\n",
        "    precision[key] = precision_score(predictions[key], y_test)\n",
        "    recall[key] = recall_score(predictions[key], y_test)"
      ],
      "metadata": {
        "colab": {
          "base_uri": "https://localhost:8080/",
          "height": 363
        },
        "id": "FqwaTxaZRcYF",
        "outputId": "199aedd3-9612-45b2-811b-cec3bf8db04a"
      },
      "execution_count": 161,
      "outputs": [
        {
          "output_type": "error",
          "ename": "ValueError",
          "evalue": "ignored",
          "traceback": [
            "\u001b[0;31m---------------------------------------------------------------------------\u001b[0m",
            "\u001b[0;31mValueError\u001b[0m                                Traceback (most recent call last)",
            "\u001b[0;32m<ipython-input-161-fe8dd309c1a4>\u001b[0m in \u001b[0;36m<module>\u001b[0;34m\u001b[0m\n\u001b[1;32m     12\u001b[0m     \u001b[0;31m# Calculate Accuracy, Precision and Recall Metrics\u001b[0m\u001b[0;34m\u001b[0m\u001b[0;34m\u001b[0m\u001b[0;34m\u001b[0m\u001b[0m\n\u001b[1;32m     13\u001b[0m     \u001b[0maccuracy\u001b[0m\u001b[0;34m[\u001b[0m\u001b[0mkey\u001b[0m\u001b[0;34m]\u001b[0m \u001b[0;34m=\u001b[0m \u001b[0maccuracy_score\u001b[0m\u001b[0;34m(\u001b[0m\u001b[0mpredictions\u001b[0m\u001b[0;34m[\u001b[0m\u001b[0mkey\u001b[0m\u001b[0;34m]\u001b[0m\u001b[0;34m,\u001b[0m \u001b[0my_test\u001b[0m\u001b[0;34m)\u001b[0m\u001b[0;34m\u001b[0m\u001b[0;34m\u001b[0m\u001b[0m\n\u001b[0;32m---> 14\u001b[0;31m     \u001b[0mprecision\u001b[0m\u001b[0;34m[\u001b[0m\u001b[0mkey\u001b[0m\u001b[0;34m]\u001b[0m \u001b[0;34m=\u001b[0m \u001b[0mprecision_score\u001b[0m\u001b[0;34m(\u001b[0m\u001b[0mpredictions\u001b[0m\u001b[0;34m[\u001b[0m\u001b[0mkey\u001b[0m\u001b[0;34m]\u001b[0m\u001b[0;34m,\u001b[0m \u001b[0my_test\u001b[0m\u001b[0;34m)\u001b[0m\u001b[0;34m\u001b[0m\u001b[0;34m\u001b[0m\u001b[0m\n\u001b[0m\u001b[1;32m     15\u001b[0m     \u001b[0mrecall\u001b[0m\u001b[0;34m[\u001b[0m\u001b[0mkey\u001b[0m\u001b[0;34m]\u001b[0m \u001b[0;34m=\u001b[0m \u001b[0mrecall_score\u001b[0m\u001b[0;34m(\u001b[0m\u001b[0mpredictions\u001b[0m\u001b[0;34m[\u001b[0m\u001b[0mkey\u001b[0m\u001b[0;34m]\u001b[0m\u001b[0;34m,\u001b[0m \u001b[0my_test\u001b[0m\u001b[0;34m)\u001b[0m\u001b[0;34m\u001b[0m\u001b[0;34m\u001b[0m\u001b[0m\n",
            "\u001b[0;32m/usr/local/lib/python3.8/dist-packages/sklearn/metrics/_classification.py\u001b[0m in \u001b[0;36mprecision_score\u001b[0;34m(y_true, y_pred, labels, pos_label, average, sample_weight, zero_division)\u001b[0m\n\u001b[1;32m   1755\u001b[0m     \u001b[0marray\u001b[0m\u001b[0;34m(\u001b[0m\u001b[0;34m[\u001b[0m\u001b[0;36m0.5\u001b[0m\u001b[0;34m,\u001b[0m \u001b[0;36m1.\u001b[0m \u001b[0;34m,\u001b[0m \u001b[0;36m1.\u001b[0m \u001b[0;34m]\u001b[0m\u001b[0;34m)\u001b[0m\u001b[0;34m\u001b[0m\u001b[0;34m\u001b[0m\u001b[0m\n\u001b[1;32m   1756\u001b[0m     \"\"\"\n\u001b[0;32m-> 1757\u001b[0;31m     p, _, _, _ = precision_recall_fscore_support(\n\u001b[0m\u001b[1;32m   1758\u001b[0m         \u001b[0my_true\u001b[0m\u001b[0;34m,\u001b[0m\u001b[0;34m\u001b[0m\u001b[0;34m\u001b[0m\u001b[0m\n\u001b[1;32m   1759\u001b[0m         \u001b[0my_pred\u001b[0m\u001b[0;34m,\u001b[0m\u001b[0;34m\u001b[0m\u001b[0;34m\u001b[0m\u001b[0m\n",
            "\u001b[0;32m/usr/local/lib/python3.8/dist-packages/sklearn/metrics/_classification.py\u001b[0m in \u001b[0;36mprecision_recall_fscore_support\u001b[0;34m(y_true, y_pred, beta, labels, pos_label, average, warn_for, sample_weight, zero_division)\u001b[0m\n\u001b[1;32m   1542\u001b[0m     \u001b[0;32mif\u001b[0m \u001b[0mbeta\u001b[0m \u001b[0;34m<\u001b[0m \u001b[0;36m0\u001b[0m\u001b[0;34m:\u001b[0m\u001b[0;34m\u001b[0m\u001b[0;34m\u001b[0m\u001b[0m\n\u001b[1;32m   1543\u001b[0m         \u001b[0;32mraise\u001b[0m \u001b[0mValueError\u001b[0m\u001b[0;34m(\u001b[0m\u001b[0;34m\"beta should be >=0 in the F-beta score\"\u001b[0m\u001b[0;34m)\u001b[0m\u001b[0;34m\u001b[0m\u001b[0;34m\u001b[0m\u001b[0m\n\u001b[0;32m-> 1544\u001b[0;31m     \u001b[0mlabels\u001b[0m \u001b[0;34m=\u001b[0m \u001b[0m_check_set_wise_labels\u001b[0m\u001b[0;34m(\u001b[0m\u001b[0my_true\u001b[0m\u001b[0;34m,\u001b[0m \u001b[0my_pred\u001b[0m\u001b[0;34m,\u001b[0m \u001b[0maverage\u001b[0m\u001b[0;34m,\u001b[0m \u001b[0mlabels\u001b[0m\u001b[0;34m,\u001b[0m \u001b[0mpos_label\u001b[0m\u001b[0;34m)\u001b[0m\u001b[0;34m\u001b[0m\u001b[0;34m\u001b[0m\u001b[0m\n\u001b[0m\u001b[1;32m   1545\u001b[0m \u001b[0;34m\u001b[0m\u001b[0m\n\u001b[1;32m   1546\u001b[0m     \u001b[0;31m# Calculate tp_sum, pred_sum, true_sum ###\u001b[0m\u001b[0;34m\u001b[0m\u001b[0;34m\u001b[0m\u001b[0;34m\u001b[0m\u001b[0m\n",
            "\u001b[0;32m/usr/local/lib/python3.8/dist-packages/sklearn/metrics/_classification.py\u001b[0m in \u001b[0;36m_check_set_wise_labels\u001b[0;34m(y_true, y_pred, average, labels, pos_label)\u001b[0m\n\u001b[1;32m   1363\u001b[0m             \u001b[0;32mif\u001b[0m \u001b[0my_type\u001b[0m \u001b[0;34m==\u001b[0m \u001b[0;34m\"multiclass\"\u001b[0m\u001b[0;34m:\u001b[0m\u001b[0;34m\u001b[0m\u001b[0;34m\u001b[0m\u001b[0m\n\u001b[1;32m   1364\u001b[0m                 \u001b[0maverage_options\u001b[0m\u001b[0;34m.\u001b[0m\u001b[0mremove\u001b[0m\u001b[0;34m(\u001b[0m\u001b[0;34m\"samples\"\u001b[0m\u001b[0;34m)\u001b[0m\u001b[0;34m\u001b[0m\u001b[0;34m\u001b[0m\u001b[0m\n\u001b[0;32m-> 1365\u001b[0;31m             raise ValueError(\n\u001b[0m\u001b[1;32m   1366\u001b[0m                 \u001b[0;34m\"Target is %s but average='binary'. Please \"\u001b[0m\u001b[0;34m\u001b[0m\u001b[0;34m\u001b[0m\u001b[0m\n\u001b[1;32m   1367\u001b[0m                 \u001b[0;34m\"choose another average setting, one of %r.\"\u001b[0m \u001b[0;34m%\u001b[0m \u001b[0;34m(\u001b[0m\u001b[0my_type\u001b[0m\u001b[0;34m,\u001b[0m \u001b[0maverage_options\u001b[0m\u001b[0;34m)\u001b[0m\u001b[0;34m\u001b[0m\u001b[0;34m\u001b[0m\u001b[0m\n",
            "\u001b[0;31mValueError\u001b[0m: Target is multiclass but average='binary'. Please choose another average setting, one of [None, 'micro', 'macro', 'weighted']."
          ]
        }
      ]
    },
    {
      "cell_type": "code",
      "source": [
        "df_model = pd.DataFrame(index=models.keys(), columns=['Accuracy', 'Precision', 'Recall'])\n",
        "df_model['Accuracy'] = accuracy.values()\n",
        "df_model['Precision'] = precision.values()\n",
        "df_model['Recall'] = recall.values()\n",
        "\n",
        "print(df_model)\n",
        "\n",
        "ax  = df_model.plot.bar(rot=45)\n",
        "ax.legend(ncol= len(models.keys()), bbox_to_anchor=(0, 1), loc='lower left', prop={'size': 10})\n",
        "plt.tight_layout()"
      ],
      "metadata": {
        "id": "fZewqXHsTAHZ"
      },
      "execution_count": null,
      "outputs": []
    }
  ]
}